{
 "cells": [
  {
   "cell_type": "markdown",
   "metadata": {
    "id": "6kbQJMvqYKjw"
   },
   "source": [
    "# Analysis of Donald Trump's Tweets \n",
    "\n"
   ]
  },
  {
   "cell_type": "code",
   "execution_count": null,
   "metadata": {
    "id": "rVOtsAzbYKjz",
    "outputId": "4d98e6d6-d70d-466f-eda7-7311d5c9ecdb"
   },
   "outputs": [
    {
     "data": {
      "text/html": [
       "<style type=\"text/css\">\n",
       "table.dataframe td, table.dataframe th {\n",
       "    border-style: solid;\n",
       "}\n"
      ],
      "text/plain": [
       "<IPython.core.display.HTML object>"
      ]
     },
     "metadata": {},
     "output_type": "display_data"
    }
   ],
   "source": [
    "%%HTML\n",
    "<style type=\"text/css\">\n",
    "table.dataframe td, table.dataframe th {\n",
    "    border-style: solid;\n",
    "}"
   ]
  },
  {
   "cell_type": "code",
   "execution_count": null,
   "metadata": {
    "id": "ATcNMXoLYKj2"
   },
   "outputs": [],
   "source": [
    "import pandas as pd\n",
    "import numpy as np\n",
    "import matplotlib.pyplot as plt\n",
    "import seaborn as sns\n",
    "import warnings\n",
    "warnings.filterwarnings('ignore')\n",
    "%matplotlib inline"
   ]
  },
  {
   "cell_type": "code",
   "execution_count": null,
   "metadata": {
    "id": "fRo-kO9LYKj3"
   },
   "outputs": [],
   "source": [
    "import nltk\n",
    "from sklearn.feature_extraction.text import CountVectorizer\n",
    "from sklearn.feature_extraction.text import TfidfVectorizer\n",
    "from sklearn.preprocessing import LabelEncoder,LabelBinarizer\n",
    "from nltk.corpus import stopwords\n",
    "from nltk.stem.porter import PorterStemmer\n",
    "from wordcloud import WordCloud,STOPWORDS\n",
    "from nltk.stem import WordNetLemmatizer\n",
    "from nltk.tokenize import word_tokenize,sent_tokenize\n",
    "from nltk.stem import LancasterStemmer\n",
    "from bs4 import BeautifulSoup\n",
    "#import spacy\n",
    "import re,unicodedata,string\n",
    "from nltk.tokenize.toktok import ToktokTokenizer\n",
    "from sklearn.linear_model import LogisticRegression,SGDClassifier\n",
    "from sklearn.naive_bayes import MultinomialNB\n",
    "from sklearn.svm import SVC\n",
    "from textblob import TextBlob,Word\n",
    "from sklearn.metrics import classification_report,confusion_matrix,accuracy_score\n",
    "import re"
   ]
  },
  {
   "cell_type": "markdown",
   "metadata": {
    "id": "djq-lK11YKj5"
   },
   "source": [
    "**Explanation for the above packages:**\n",
    "- Count Vectorizer: This is used to transform the given text to sparse matrix or a vector by the word frequency count\n",
    "- Tfidf Vectorizer: This is used to transform the given text to sparse matrix similar to Count Vectorizer or the Bag of Words. The difference is that Tfidf also provides more importance to the high count words and rarity of words relatively.\n",
    "- LabelEncoder and LabelBinarizer: They convert the categorical strings to numerical values for classification. If there are more than two classes, Encoder is used.\n",
    "- stopwords: Its a collection of common words to reduce the burden in finding the sense of the text.\n",
    "- PorterStemmer and WordNetLemmatizer: They are used to get the root word of the word. \n",
    "- tokenization: Segmenting the words in a sentence.\n",
    "- re : Regular Expression in python\n",
    "- TextBlob: Its used to determine the polarity and subjectivity of the text."
   ]
  },
  {
   "cell_type": "code",
   "execution_count": null,
   "metadata": {
    "id": "0QjyTQeyYKj6"
   },
   "outputs": [],
   "source": [
    "pd.set_option('float_format', '{:f}'.format)"
   ]
  },
  {
   "cell_type": "markdown",
   "metadata": {},
   "source": [
    "### To download the dataset <a href = 'https://drive.google.com/file/d/19FxWRtYidfMBUbHZ9qtMHsgYStoLJ4ne/view?usp=sharing' title= 'Google Drive'> Click here"
   ]
  },
  {
   "cell_type": "code",
   "execution_count": null,
   "metadata": {
    "id": "OwF8ImeDYKj7"
   },
   "outputs": [],
   "source": [
    "trump_df = pd.read_csv(r'Copy of trumptweets.csv')"
   ]
  },
  {
   "cell_type": "code",
   "execution_count": null,
   "metadata": {
    "id": "kQ4EJWT_YKj8",
    "outputId": "a09c842f-1fbc-47a9-bd1a-b4557639a5f8"
   },
   "outputs": [
    {
     "data": {
      "text/html": [
       "<div>\n",
       "<style scoped>\n",
       "    .dataframe tbody tr th:only-of-type {\n",
       "        vertical-align: middle;\n",
       "    }\n",
       "\n",
       "    .dataframe tbody tr th {\n",
       "        vertical-align: top;\n",
       "    }\n",
       "\n",
       "    .dataframe thead th {\n",
       "        text-align: right;\n",
       "    }\n",
       "</style>\n",
       "<table border=\"1\" class=\"dataframe\">\n",
       "  <thead>\n",
       "    <tr style=\"text-align: right;\">\n",
       "      <th></th>\n",
       "      <th>id</th>\n",
       "      <th>link</th>\n",
       "      <th>content</th>\n",
       "      <th>date</th>\n",
       "      <th>retweets</th>\n",
       "      <th>favorites</th>\n",
       "      <th>mentions</th>\n",
       "      <th>hashtags</th>\n",
       "      <th>geo</th>\n",
       "    </tr>\n",
       "  </thead>\n",
       "  <tbody>\n",
       "    <tr>\n",
       "      <th>0</th>\n",
       "      <td>1698308935</td>\n",
       "      <td>https://twitter.com/realDonaldTrump/status/169...</td>\n",
       "      <td>Be sure to tune in and watch Donald Trump on L...</td>\n",
       "      <td>2009-05-04 20:54:25</td>\n",
       "      <td>500</td>\n",
       "      <td>868</td>\n",
       "      <td>NaN</td>\n",
       "      <td>NaN</td>\n",
       "      <td>NaN</td>\n",
       "    </tr>\n",
       "    <tr>\n",
       "      <th>1</th>\n",
       "      <td>1701461182</td>\n",
       "      <td>https://twitter.com/realDonaldTrump/status/170...</td>\n",
       "      <td>Donald Trump will be appearing on The View tom...</td>\n",
       "      <td>2009-05-05 03:00:10</td>\n",
       "      <td>33</td>\n",
       "      <td>273</td>\n",
       "      <td>NaN</td>\n",
       "      <td>NaN</td>\n",
       "      <td>NaN</td>\n",
       "    </tr>\n",
       "    <tr>\n",
       "      <th>2</th>\n",
       "      <td>1737479987</td>\n",
       "      <td>https://twitter.com/realDonaldTrump/status/173...</td>\n",
       "      <td>Donald Trump reads Top Ten Financial Tips on L...</td>\n",
       "      <td>2009-05-08 15:38:08</td>\n",
       "      <td>12</td>\n",
       "      <td>18</td>\n",
       "      <td>NaN</td>\n",
       "      <td>NaN</td>\n",
       "      <td>NaN</td>\n",
       "    </tr>\n",
       "    <tr>\n",
       "      <th>3</th>\n",
       "      <td>1741160716</td>\n",
       "      <td>https://twitter.com/realDonaldTrump/status/174...</td>\n",
       "      <td>New Blog Post: Celebrity Apprentice Finale and...</td>\n",
       "      <td>2009-05-08 22:40:15</td>\n",
       "      <td>11</td>\n",
       "      <td>24</td>\n",
       "      <td>NaN</td>\n",
       "      <td>NaN</td>\n",
       "      <td>NaN</td>\n",
       "    </tr>\n",
       "    <tr>\n",
       "      <th>4</th>\n",
       "      <td>1773561338</td>\n",
       "      <td>https://twitter.com/realDonaldTrump/status/177...</td>\n",
       "      <td>\"My persona will never be that of a wallflower...</td>\n",
       "      <td>2009-05-12 16:07:28</td>\n",
       "      <td>1399</td>\n",
       "      <td>1965</td>\n",
       "      <td>NaN</td>\n",
       "      <td>NaN</td>\n",
       "      <td>NaN</td>\n",
       "    </tr>\n",
       "    <tr>\n",
       "      <th>...</th>\n",
       "      <td>...</td>\n",
       "      <td>...</td>\n",
       "      <td>...</td>\n",
       "      <td>...</td>\n",
       "      <td>...</td>\n",
       "      <td>...</td>\n",
       "      <td>...</td>\n",
       "      <td>...</td>\n",
       "      <td>...</td>\n",
       "    </tr>\n",
       "    <tr>\n",
       "      <th>41117</th>\n",
       "      <td>1218962544372670467</td>\n",
       "      <td>https://twitter.com/realDonaldTrump/status/121...</td>\n",
       "      <td>I have never seen the Republican Party as Stro...</td>\n",
       "      <td>2020-01-19 19:24:52</td>\n",
       "      <td>32620</td>\n",
       "      <td>213817</td>\n",
       "      <td>NaN</td>\n",
       "      <td>NaN</td>\n",
       "      <td>NaN</td>\n",
       "    </tr>\n",
       "    <tr>\n",
       "      <th>41118</th>\n",
       "      <td>1219004689716412416</td>\n",
       "      <td>https://twitter.com/realDonaldTrump/status/121...</td>\n",
       "      <td>Now Mini Mike Bloomberg is critical of Jack Wi...</td>\n",
       "      <td>2020-01-19 22:12:20</td>\n",
       "      <td>36239</td>\n",
       "      <td>149571</td>\n",
       "      <td>NaN</td>\n",
       "      <td>NaN</td>\n",
       "      <td>NaN</td>\n",
       "    </tr>\n",
       "    <tr>\n",
       "      <th>41119</th>\n",
       "      <td>1219053709428248576</td>\n",
       "      <td>https://twitter.com/realDonaldTrump/status/121...</td>\n",
       "      <td>I was thrilled to be back in the Great State o...</td>\n",
       "      <td>2020-01-20 01:27:07</td>\n",
       "      <td>16588</td>\n",
       "      <td>66944</td>\n",
       "      <td>NaN</td>\n",
       "      <td>#</td>\n",
       "      <td>NaN</td>\n",
       "    </tr>\n",
       "    <tr>\n",
       "      <th>41120</th>\n",
       "      <td>1219066007731310593</td>\n",
       "      <td>https://twitter.com/realDonaldTrump/status/121...</td>\n",
       "      <td>“In the House, the President got less due proc...</td>\n",
       "      <td>2020-01-20 02:16:00</td>\n",
       "      <td>20599</td>\n",
       "      <td>81921</td>\n",
       "      <td>@ @ @</td>\n",
       "      <td>NaN</td>\n",
       "      <td>NaN</td>\n",
       "    </tr>\n",
       "    <tr>\n",
       "      <th>41121</th>\n",
       "      <td>1219076533354037249</td>\n",
       "      <td>https://twitter.com/realDonaldTrump/status/121...</td>\n",
       "      <td>A great show! Check it out tonight at 9pm. @ F...</td>\n",
       "      <td>2020-01-20 02:57:49</td>\n",
       "      <td>7947</td>\n",
       "      <td>34902</td>\n",
       "      <td>@</td>\n",
       "      <td>NaN</td>\n",
       "      <td>NaN</td>\n",
       "    </tr>\n",
       "  </tbody>\n",
       "</table>\n",
       "<p>41122 rows × 9 columns</p>\n",
       "</div>"
      ],
      "text/plain": [
       "                        id                                               link  \\\n",
       "0               1698308935  https://twitter.com/realDonaldTrump/status/169...   \n",
       "1               1701461182  https://twitter.com/realDonaldTrump/status/170...   \n",
       "2               1737479987  https://twitter.com/realDonaldTrump/status/173...   \n",
       "3               1741160716  https://twitter.com/realDonaldTrump/status/174...   \n",
       "4               1773561338  https://twitter.com/realDonaldTrump/status/177...   \n",
       "...                    ...                                                ...   \n",
       "41117  1218962544372670467  https://twitter.com/realDonaldTrump/status/121...   \n",
       "41118  1219004689716412416  https://twitter.com/realDonaldTrump/status/121...   \n",
       "41119  1219053709428248576  https://twitter.com/realDonaldTrump/status/121...   \n",
       "41120  1219066007731310593  https://twitter.com/realDonaldTrump/status/121...   \n",
       "41121  1219076533354037249  https://twitter.com/realDonaldTrump/status/121...   \n",
       "\n",
       "                                                 content                 date  \\\n",
       "0      Be sure to tune in and watch Donald Trump on L...  2009-05-04 20:54:25   \n",
       "1      Donald Trump will be appearing on The View tom...  2009-05-05 03:00:10   \n",
       "2      Donald Trump reads Top Ten Financial Tips on L...  2009-05-08 15:38:08   \n",
       "3      New Blog Post: Celebrity Apprentice Finale and...  2009-05-08 22:40:15   \n",
       "4      \"My persona will never be that of a wallflower...  2009-05-12 16:07:28   \n",
       "...                                                  ...                  ...   \n",
       "41117  I have never seen the Republican Party as Stro...  2020-01-19 19:24:52   \n",
       "41118  Now Mini Mike Bloomberg is critical of Jack Wi...  2020-01-19 22:12:20   \n",
       "41119  I was thrilled to be back in the Great State o...  2020-01-20 01:27:07   \n",
       "41120  “In the House, the President got less due proc...  2020-01-20 02:16:00   \n",
       "41121  A great show! Check it out tonight at 9pm. @ F...  2020-01-20 02:57:49   \n",
       "\n",
       "       retweets  favorites mentions hashtags  geo  \n",
       "0           500        868      NaN      NaN  NaN  \n",
       "1            33        273      NaN      NaN  NaN  \n",
       "2            12         18      NaN      NaN  NaN  \n",
       "3            11         24      NaN      NaN  NaN  \n",
       "4          1399       1965      NaN      NaN  NaN  \n",
       "...         ...        ...      ...      ...  ...  \n",
       "41117     32620     213817      NaN      NaN  NaN  \n",
       "41118     36239     149571      NaN      NaN  NaN  \n",
       "41119     16588      66944      NaN        #  NaN  \n",
       "41120     20599      81921    @ @ @      NaN  NaN  \n",
       "41121      7947      34902        @      NaN  NaN  \n",
       "\n",
       "[41122 rows x 9 columns]"
      ]
     },
     "execution_count": 24,
     "metadata": {},
     "output_type": "execute_result"
    }
   ],
   "source": [
    "trump_df"
   ]
  },
  {
   "cell_type": "code",
   "execution_count": null,
   "metadata": {
    "id": "2TmmHf1pYKj9",
    "outputId": "d380cd83-31fb-4a53-aa25-e3ce3d61d7ef"
   },
   "outputs": [
    {
     "data": {
      "text/plain": [
       "(41122, 9)"
      ]
     },
     "execution_count": 25,
     "metadata": {},
     "output_type": "execute_result"
    }
   ],
   "source": [
    "trump_df.shape"
   ]
  },
  {
   "cell_type": "code",
   "execution_count": null,
   "metadata": {
    "id": "9aNE2YiTYKj-",
    "outputId": "61731f07-bcb6-4944-df46-26d94e936fef"
   },
   "outputs": [
    {
     "data": {
      "text/plain": [
       "Index(['id', 'link', 'content', 'date', 'retweets', 'favorites', 'mentions',\n",
       "       'hashtags', 'geo'],\n",
       "      dtype='object')"
      ]
     },
     "execution_count": 26,
     "metadata": {},
     "output_type": "execute_result"
    }
   ],
   "source": [
    "trump_df.columns"
   ]
  },
  {
   "cell_type": "code",
   "execution_count": null,
   "metadata": {
    "id": "vJM4gf2LYKj_",
    "outputId": "9d9ae50a-e37f-496c-8bdd-5703a805ca52"
   },
   "outputs": [
    {
     "name": "stdout",
     "output_type": "stream",
     "text": [
      "<class 'pandas.core.frame.DataFrame'>\n",
      "RangeIndex: 41122 entries, 0 to 41121\n",
      "Data columns (total 9 columns):\n",
      " #   Column     Non-Null Count  Dtype  \n",
      "---  ------     --------------  -----  \n",
      " 0   id         41122 non-null  int64  \n",
      " 1   link       41122 non-null  object \n",
      " 2   content    41122 non-null  object \n",
      " 3   date       41122 non-null  object \n",
      " 4   retweets   41122 non-null  int64  \n",
      " 5   favorites  41122 non-null  int64  \n",
      " 6   mentions   22467 non-null  object \n",
      " 7   hashtags   5810 non-null   object \n",
      " 8   geo        0 non-null      float64\n",
      "dtypes: float64(1), int64(3), object(5)\n",
      "memory usage: 2.8+ MB\n"
     ]
    }
   ],
   "source": [
    "trump_df.info()"
   ]
  },
  {
   "cell_type": "code",
   "execution_count": null,
   "metadata": {
    "id": "wZkL_1h1YKkA",
    "outputId": "98fb5b76-19f5-42ee-946c-26533ac5f9e7"
   },
   "outputs": [
    {
     "data": {
      "text/html": [
       "<div>\n",
       "<style scoped>\n",
       "    .dataframe tbody tr th:only-of-type {\n",
       "        vertical-align: middle;\n",
       "    }\n",
       "\n",
       "    .dataframe tbody tr th {\n",
       "        vertical-align: top;\n",
       "    }\n",
       "\n",
       "    .dataframe thead th {\n",
       "        text-align: right;\n",
       "    }\n",
       "</style>\n",
       "<table border=\"1\" class=\"dataframe\">\n",
       "  <thead>\n",
       "    <tr style=\"text-align: right;\">\n",
       "      <th></th>\n",
       "      <th>id</th>\n",
       "      <th>retweets</th>\n",
       "      <th>favorites</th>\n",
       "      <th>geo</th>\n",
       "    </tr>\n",
       "  </thead>\n",
       "  <tbody>\n",
       "    <tr>\n",
       "      <th>count</th>\n",
       "      <td>41122.000000</td>\n",
       "      <td>41122.000000</td>\n",
       "      <td>41122.000000</td>\n",
       "      <td>0.000000</td>\n",
       "    </tr>\n",
       "    <tr>\n",
       "      <th>mean</th>\n",
       "      <td>608890886708835200.000000</td>\n",
       "      <td>5455.590657</td>\n",
       "      <td>22356.899105</td>\n",
       "      <td>NaN</td>\n",
       "    </tr>\n",
       "    <tr>\n",
       "      <th>std</th>\n",
       "      <td>302794624798576512.000000</td>\n",
       "      <td>10130.076661</td>\n",
       "      <td>41501.859711</td>\n",
       "      <td>NaN</td>\n",
       "    </tr>\n",
       "    <tr>\n",
       "      <th>min</th>\n",
       "      <td>1698308935.000000</td>\n",
       "      <td>0.000000</td>\n",
       "      <td>0.000000</td>\n",
       "      <td>NaN</td>\n",
       "    </tr>\n",
       "    <tr>\n",
       "      <th>25%</th>\n",
       "      <td>354942771644209152.000000</td>\n",
       "      <td>25.000000</td>\n",
       "      <td>28.000000</td>\n",
       "      <td>NaN</td>\n",
       "    </tr>\n",
       "    <tr>\n",
       "      <th>50%</th>\n",
       "      <td>560914936703027200.000000</td>\n",
       "      <td>291.000000</td>\n",
       "      <td>247.000000</td>\n",
       "      <td>NaN</td>\n",
       "    </tr>\n",
       "    <tr>\n",
       "      <th>75%</th>\n",
       "      <td>794121829388584960.000000</td>\n",
       "      <td>8778.000000</td>\n",
       "      <td>32970.750000</td>\n",
       "      <td>NaN</td>\n",
       "    </tr>\n",
       "    <tr>\n",
       "      <th>max</th>\n",
       "      <td>1219076533354037248.000000</td>\n",
       "      <td>309892.000000</td>\n",
       "      <td>857678.000000</td>\n",
       "      <td>NaN</td>\n",
       "    </tr>\n",
       "  </tbody>\n",
       "</table>\n",
       "</div>"
      ],
      "text/plain": [
       "                              id      retweets     favorites      geo\n",
       "count               41122.000000  41122.000000  41122.000000 0.000000\n",
       "mean   608890886708835200.000000   5455.590657  22356.899105      NaN\n",
       "std    302794624798576512.000000  10130.076661  41501.859711      NaN\n",
       "min            1698308935.000000      0.000000      0.000000      NaN\n",
       "25%    354942771644209152.000000     25.000000     28.000000      NaN\n",
       "50%    560914936703027200.000000    291.000000    247.000000      NaN\n",
       "75%    794121829388584960.000000   8778.000000  32970.750000      NaN\n",
       "max   1219076533354037248.000000 309892.000000 857678.000000      NaN"
      ]
     },
     "execution_count": 28,
     "metadata": {},
     "output_type": "execute_result"
    }
   ],
   "source": [
    "trump_df.describe()"
   ]
  },
  {
   "cell_type": "code",
   "execution_count": null,
   "metadata": {
    "id": "eshKkYNzYKkB",
    "outputId": "4182eb45-9bbf-445a-8b0f-21bddee49b8e"
   },
   "outputs": [
    {
     "data": {
      "text/html": [
       "<div>\n",
       "<style scoped>\n",
       "    .dataframe tbody tr th:only-of-type {\n",
       "        vertical-align: middle;\n",
       "    }\n",
       "\n",
       "    .dataframe tbody tr th {\n",
       "        vertical-align: top;\n",
       "    }\n",
       "\n",
       "    .dataframe thead th {\n",
       "        text-align: right;\n",
       "    }\n",
       "</style>\n",
       "<table border=\"1\" class=\"dataframe\">\n",
       "  <thead>\n",
       "    <tr style=\"text-align: right;\">\n",
       "      <th></th>\n",
       "      <th>id</th>\n",
       "      <th>retweets</th>\n",
       "      <th>favorites</th>\n",
       "      <th>geo</th>\n",
       "    </tr>\n",
       "  </thead>\n",
       "  <tbody>\n",
       "    <tr>\n",
       "      <th>id</th>\n",
       "      <td>1.000000</td>\n",
       "      <td>0.687139</td>\n",
       "      <td>0.741623</td>\n",
       "      <td>NaN</td>\n",
       "    </tr>\n",
       "    <tr>\n",
       "      <th>retweets</th>\n",
       "      <td>0.687139</td>\n",
       "      <td>1.000000</td>\n",
       "      <td>0.944441</td>\n",
       "      <td>NaN</td>\n",
       "    </tr>\n",
       "    <tr>\n",
       "      <th>favorites</th>\n",
       "      <td>0.741623</td>\n",
       "      <td>0.944441</td>\n",
       "      <td>1.000000</td>\n",
       "      <td>NaN</td>\n",
       "    </tr>\n",
       "    <tr>\n",
       "      <th>geo</th>\n",
       "      <td>NaN</td>\n",
       "      <td>NaN</td>\n",
       "      <td>NaN</td>\n",
       "      <td>NaN</td>\n",
       "    </tr>\n",
       "  </tbody>\n",
       "</table>\n",
       "</div>"
      ],
      "text/plain": [
       "                id  retweets  favorites  geo\n",
       "id        1.000000  0.687139   0.741623  NaN\n",
       "retweets  0.687139  1.000000   0.944441  NaN\n",
       "favorites 0.741623  0.944441   1.000000  NaN\n",
       "geo            NaN       NaN        NaN  NaN"
      ]
     },
     "execution_count": 29,
     "metadata": {},
     "output_type": "execute_result"
    }
   ],
   "source": [
    "trump_df.corr()"
   ]
  },
  {
   "cell_type": "code",
   "execution_count": null,
   "metadata": {
    "id": "Fucl8YClYKkC"
   },
   "outputs": [],
   "source": [
    "pd.options.display.max_colwidth = 200"
   ]
  },
  {
   "cell_type": "code",
   "execution_count": null,
   "metadata": {
    "id": "EyRG313JYKkC",
    "outputId": "6e5f65ed-a03e-4af7-9941-d34d979eb759"
   },
   "outputs": [
    {
     "data": {
      "text/plain": [
       "0                                                                                          Be sure to tune in and watch Donald Trump on Late Night with David Letterman as he presents the Top Ten List tonight!\n",
       "1                                                                            Donald Trump will be appearing on The View tomorrow morning to discuss Celebrity Apprentice and his new book Think Like A Champion!\n",
       "2                                                                                           Donald Trump reads Top Ten Financial Tips on Late Show with David Letterman: http://tinyurl.com/ooafwn - Very funny!\n",
       "3                                                                                                        New Blog Post: Celebrity Apprentice Finale and Lessons Learned Along the Way: http://tinyurl.com/qlux5e\n",
       "4                                                                                                  \"My persona will never be that of a wallflower - I’d rather build walls than cling to them\" --Donald J. Trump\n",
       "                                                                                                          ...                                                                                                   \n",
       "41117                                                                                                             I have never seen the Republican Party as Strong and as Unified as it is right now. Thank you!\n",
       "41118    Now Mini Mike Bloomberg is critical of Jack Wilson, who saved perhaps hundreds of people in a Church because he was carrying a gun, and knew how to use it. Jack quickly killed the shooter, who was...\n",
       "41119    I was thrilled to be back in the Great State of Texas tonight, where the people are known for being tough, strong, hardworking, loyal and fiercely patriotic — just like America’s incredible Farmer...\n",
       "41120                          “In the House, the President got less due process than the 9-11 terrorists got. This is a corrupt process?” Mark Levin @ marklevinshow “Very much so!” @ RepDougCollins @ FoxNews\n",
       "41121                                                                                            A great show! Check it out tonight at 9pm. @ FoxNewshttps://twitter.com/nextrevfnc/status/1218941188704632832 …\n",
       "Name: content, Length: 41122, dtype: object"
      ]
     },
     "execution_count": 31,
     "metadata": {},
     "output_type": "execute_result"
    }
   ],
   "source": [
    "trump_df['content']"
   ]
  },
  {
   "cell_type": "code",
   "execution_count": null,
   "metadata": {
    "id": "7EH9cOerYKkD"
   },
   "outputs": [],
   "source": [
    "exclam = trump_df['content'].str.contains('!')"
   ]
  },
  {
   "cell_type": "code",
   "execution_count": null,
   "metadata": {
    "id": "lc0-X0RsYKkD",
    "outputId": "7995a9ac-d35b-4f81-fc78-49bf6c9ecb21"
   },
   "outputs": [
    {
     "data": {
      "text/plain": [
       "0         True\n",
       "1         True\n",
       "2         True\n",
       "3        False\n",
       "4        False\n",
       "         ...  \n",
       "41117     True\n",
       "41118     True\n",
       "41119     True\n",
       "41120     True\n",
       "41121     True\n",
       "Name: content, Length: 41122, dtype: bool"
      ]
     },
     "execution_count": 33,
     "metadata": {},
     "output_type": "execute_result"
    }
   ],
   "source": [
    "exclam"
   ]
  },
  {
   "cell_type": "code",
   "execution_count": null,
   "metadata": {
    "id": "TwhjVPlXYKkE",
    "outputId": "cd8619a8-77bd-46a1-bdfd-a8ab908b3086"
   },
   "outputs": [
    {
     "data": {
      "text/plain": [
       "False    20918\n",
       "True     20204\n",
       "Name: content, dtype: int64"
      ]
     },
     "execution_count": 34,
     "metadata": {},
     "output_type": "execute_result"
    }
   ],
   "source": [
    "exclam.value_counts()"
   ]
  },
  {
   "cell_type": "code",
   "execution_count": null,
   "metadata": {
    "id": "pyYVobbrYKkF",
    "outputId": "4b4baaaa-cdfd-46a9-b7fc-50425b322ea7"
   },
   "outputs": [
    {
     "name": "stdout",
     "output_type": "stream",
     "text": [
      "0.491318515636399\n"
     ]
    }
   ],
   "source": [
    "Answer02 = exclam.value_counts()[1]/len(trump_df)\n",
    "print(Answer02)"
   ]
  },
  {
   "cell_type": "code",
   "execution_count": null,
   "metadata": {
    "id": "tiHW6mmvYKkH"
   },
   "outputs": [],
   "source": [
    "import datetime\n",
    "from datetime import datetime"
   ]
  },
  {
   "cell_type": "code",
   "execution_count": null,
   "metadata": {
    "id": "sBHaA5E6YKkH"
   },
   "outputs": [],
   "source": [
    "trump_df['datetime'] = pd.to_datetime(trump_df['date'])\n",
    "trump_df['day'] = trump_df['datetime'].dt.day\n",
    "trump_df['month'] = trump_df['datetime'].dt.month\n",
    "trump_df['hour'] = trump_df['datetime'].dt.hour\n",
    "trump_df['year'] = trump_df['datetime'].dt.year"
   ]
  },
  {
   "cell_type": "code",
   "execution_count": null,
   "metadata": {
    "id": "StsDcAdnYKkI",
    "outputId": "b4c9eee8-2fba-4c6c-aa72-d56868a338df"
   },
   "outputs": [
    {
     "data": {
      "text/html": [
       "<div>\n",
       "<style scoped>\n",
       "    .dataframe tbody tr th:only-of-type {\n",
       "        vertical-align: middle;\n",
       "    }\n",
       "\n",
       "    .dataframe tbody tr th {\n",
       "        vertical-align: top;\n",
       "    }\n",
       "\n",
       "    .dataframe thead th {\n",
       "        text-align: right;\n",
       "    }\n",
       "</style>\n",
       "<table border=\"1\" class=\"dataframe\">\n",
       "  <thead>\n",
       "    <tr style=\"text-align: right;\">\n",
       "      <th></th>\n",
       "      <th>id</th>\n",
       "      <th>link</th>\n",
       "      <th>content</th>\n",
       "      <th>date</th>\n",
       "      <th>retweets</th>\n",
       "      <th>favorites</th>\n",
       "      <th>mentions</th>\n",
       "      <th>hashtags</th>\n",
       "      <th>geo</th>\n",
       "      <th>datetime</th>\n",
       "      <th>day</th>\n",
       "      <th>month</th>\n",
       "      <th>hour</th>\n",
       "      <th>year</th>\n",
       "    </tr>\n",
       "  </thead>\n",
       "  <tbody>\n",
       "    <tr>\n",
       "      <th>0</th>\n",
       "      <td>1698308935</td>\n",
       "      <td>https://twitter.com/realDonaldTrump/status/1698308935</td>\n",
       "      <td>Be sure to tune in and watch Donald Trump on Late Night with David Letterman as he presents the Top Ten List tonight!</td>\n",
       "      <td>2009-05-04 20:54:25</td>\n",
       "      <td>500</td>\n",
       "      <td>868</td>\n",
       "      <td>NaN</td>\n",
       "      <td>NaN</td>\n",
       "      <td>NaN</td>\n",
       "      <td>2009-05-04 20:54:25</td>\n",
       "      <td>4</td>\n",
       "      <td>5</td>\n",
       "      <td>20</td>\n",
       "      <td>2009</td>\n",
       "    </tr>\n",
       "    <tr>\n",
       "      <th>1</th>\n",
       "      <td>1701461182</td>\n",
       "      <td>https://twitter.com/realDonaldTrump/status/1701461182</td>\n",
       "      <td>Donald Trump will be appearing on The View tomorrow morning to discuss Celebrity Apprentice and his new book Think Like A Champion!</td>\n",
       "      <td>2009-05-05 03:00:10</td>\n",
       "      <td>33</td>\n",
       "      <td>273</td>\n",
       "      <td>NaN</td>\n",
       "      <td>NaN</td>\n",
       "      <td>NaN</td>\n",
       "      <td>2009-05-05 03:00:10</td>\n",
       "      <td>5</td>\n",
       "      <td>5</td>\n",
       "      <td>3</td>\n",
       "      <td>2009</td>\n",
       "    </tr>\n",
       "    <tr>\n",
       "      <th>2</th>\n",
       "      <td>1737479987</td>\n",
       "      <td>https://twitter.com/realDonaldTrump/status/1737479987</td>\n",
       "      <td>Donald Trump reads Top Ten Financial Tips on Late Show with David Letterman: http://tinyurl.com/ooafwn - Very funny!</td>\n",
       "      <td>2009-05-08 15:38:08</td>\n",
       "      <td>12</td>\n",
       "      <td>18</td>\n",
       "      <td>NaN</td>\n",
       "      <td>NaN</td>\n",
       "      <td>NaN</td>\n",
       "      <td>2009-05-08 15:38:08</td>\n",
       "      <td>8</td>\n",
       "      <td>5</td>\n",
       "      <td>15</td>\n",
       "      <td>2009</td>\n",
       "    </tr>\n",
       "    <tr>\n",
       "      <th>3</th>\n",
       "      <td>1741160716</td>\n",
       "      <td>https://twitter.com/realDonaldTrump/status/1741160716</td>\n",
       "      <td>New Blog Post: Celebrity Apprentice Finale and Lessons Learned Along the Way: http://tinyurl.com/qlux5e</td>\n",
       "      <td>2009-05-08 22:40:15</td>\n",
       "      <td>11</td>\n",
       "      <td>24</td>\n",
       "      <td>NaN</td>\n",
       "      <td>NaN</td>\n",
       "      <td>NaN</td>\n",
       "      <td>2009-05-08 22:40:15</td>\n",
       "      <td>8</td>\n",
       "      <td>5</td>\n",
       "      <td>22</td>\n",
       "      <td>2009</td>\n",
       "    </tr>\n",
       "    <tr>\n",
       "      <th>4</th>\n",
       "      <td>1773561338</td>\n",
       "      <td>https://twitter.com/realDonaldTrump/status/1773561338</td>\n",
       "      <td>\"My persona will never be that of a wallflower - I’d rather build walls than cling to them\" --Donald J. Trump</td>\n",
       "      <td>2009-05-12 16:07:28</td>\n",
       "      <td>1399</td>\n",
       "      <td>1965</td>\n",
       "      <td>NaN</td>\n",
       "      <td>NaN</td>\n",
       "      <td>NaN</td>\n",
       "      <td>2009-05-12 16:07:28</td>\n",
       "      <td>12</td>\n",
       "      <td>5</td>\n",
       "      <td>16</td>\n",
       "      <td>2009</td>\n",
       "    </tr>\n",
       "  </tbody>\n",
       "</table>\n",
       "</div>"
      ],
      "text/plain": [
       "           id                                                   link  \\\n",
       "0  1698308935  https://twitter.com/realDonaldTrump/status/1698308935   \n",
       "1  1701461182  https://twitter.com/realDonaldTrump/status/1701461182   \n",
       "2  1737479987  https://twitter.com/realDonaldTrump/status/1737479987   \n",
       "3  1741160716  https://twitter.com/realDonaldTrump/status/1741160716   \n",
       "4  1773561338  https://twitter.com/realDonaldTrump/status/1773561338   \n",
       "\n",
       "                                                                                                                               content  \\\n",
       "0                Be sure to tune in and watch Donald Trump on Late Night with David Letterman as he presents the Top Ten List tonight!   \n",
       "1  Donald Trump will be appearing on The View tomorrow morning to discuss Celebrity Apprentice and his new book Think Like A Champion!   \n",
       "2                 Donald Trump reads Top Ten Financial Tips on Late Show with David Letterman: http://tinyurl.com/ooafwn - Very funny!   \n",
       "3                              New Blog Post: Celebrity Apprentice Finale and Lessons Learned Along the Way: http://tinyurl.com/qlux5e   \n",
       "4                        \"My persona will never be that of a wallflower - I’d rather build walls than cling to them\" --Donald J. Trump   \n",
       "\n",
       "                  date  retweets  favorites mentions hashtags  geo  \\\n",
       "0  2009-05-04 20:54:25       500        868      NaN      NaN  NaN   \n",
       "1  2009-05-05 03:00:10        33        273      NaN      NaN  NaN   \n",
       "2  2009-05-08 15:38:08        12         18      NaN      NaN  NaN   \n",
       "3  2009-05-08 22:40:15        11         24      NaN      NaN  NaN   \n",
       "4  2009-05-12 16:07:28      1399       1965      NaN      NaN  NaN   \n",
       "\n",
       "             datetime  day  month  hour  year  \n",
       "0 2009-05-04 20:54:25    4      5    20  2009  \n",
       "1 2009-05-05 03:00:10    5      5     3  2009  \n",
       "2 2009-05-08 15:38:08    8      5    15  2009  \n",
       "3 2009-05-08 22:40:15    8      5    22  2009  \n",
       "4 2009-05-12 16:07:28   12      5    16  2009  "
      ]
     },
     "execution_count": 38,
     "metadata": {},
     "output_type": "execute_result"
    }
   ],
   "source": [
    "trump_df.head()"
   ]
  },
  {
   "cell_type": "code",
   "execution_count": null,
   "metadata": {
    "id": "samWT9QbYKkI"
   },
   "outputs": [],
   "source": [
    "trump_df['mon_yr'] = pd.to_datetime(trump_df[[\"year\", \"month\",\"day\"]])"
   ]
  },
  {
   "cell_type": "code",
   "execution_count": null,
   "metadata": {
    "id": "uwTptCBOYKkJ"
   },
   "outputs": [],
   "source": [
    "trump_df['mon_yr_hr'] = pd.to_datetime(trump_df[[\"year\",\"month\",\"day\",\"hour\"]])"
   ]
  },
  {
   "cell_type": "code",
   "execution_count": null,
   "metadata": {
    "id": "f5cRoC_qYKkJ",
    "outputId": "f7246018-e50c-4b73-9002-d7ac967a6ace"
   },
   "outputs": [
    {
     "data": {
      "text/html": [
       "<div>\n",
       "<style scoped>\n",
       "    .dataframe tbody tr th:only-of-type {\n",
       "        vertical-align: middle;\n",
       "    }\n",
       "\n",
       "    .dataframe tbody tr th {\n",
       "        vertical-align: top;\n",
       "    }\n",
       "\n",
       "    .dataframe thead th {\n",
       "        text-align: right;\n",
       "    }\n",
       "</style>\n",
       "<table border=\"1\" class=\"dataframe\">\n",
       "  <thead>\n",
       "    <tr style=\"text-align: right;\">\n",
       "      <th></th>\n",
       "      <th>id</th>\n",
       "      <th>link</th>\n",
       "      <th>content</th>\n",
       "      <th>date</th>\n",
       "      <th>retweets</th>\n",
       "      <th>favorites</th>\n",
       "      <th>mentions</th>\n",
       "      <th>hashtags</th>\n",
       "      <th>geo</th>\n",
       "      <th>datetime</th>\n",
       "      <th>day</th>\n",
       "      <th>month</th>\n",
       "      <th>hour</th>\n",
       "      <th>year</th>\n",
       "      <th>mon_yr</th>\n",
       "      <th>mon_yr_hr</th>\n",
       "    </tr>\n",
       "  </thead>\n",
       "  <tbody>\n",
       "    <tr>\n",
       "      <th>0</th>\n",
       "      <td>1698308935</td>\n",
       "      <td>https://twitter.com/realDonaldTrump/status/1698308935</td>\n",
       "      <td>Be sure to tune in and watch Donald Trump on Late Night with David Letterman as he presents the Top Ten List tonight!</td>\n",
       "      <td>2009-05-04 20:54:25</td>\n",
       "      <td>500</td>\n",
       "      <td>868</td>\n",
       "      <td>NaN</td>\n",
       "      <td>NaN</td>\n",
       "      <td>NaN</td>\n",
       "      <td>2009-05-04 20:54:25</td>\n",
       "      <td>4</td>\n",
       "      <td>5</td>\n",
       "      <td>20</td>\n",
       "      <td>2009</td>\n",
       "      <td>2009-05-04</td>\n",
       "      <td>2009-05-04 20:00:00</td>\n",
       "    </tr>\n",
       "    <tr>\n",
       "      <th>1</th>\n",
       "      <td>1701461182</td>\n",
       "      <td>https://twitter.com/realDonaldTrump/status/1701461182</td>\n",
       "      <td>Donald Trump will be appearing on The View tomorrow morning to discuss Celebrity Apprentice and his new book Think Like A Champion!</td>\n",
       "      <td>2009-05-05 03:00:10</td>\n",
       "      <td>33</td>\n",
       "      <td>273</td>\n",
       "      <td>NaN</td>\n",
       "      <td>NaN</td>\n",
       "      <td>NaN</td>\n",
       "      <td>2009-05-05 03:00:10</td>\n",
       "      <td>5</td>\n",
       "      <td>5</td>\n",
       "      <td>3</td>\n",
       "      <td>2009</td>\n",
       "      <td>2009-05-05</td>\n",
       "      <td>2009-05-05 03:00:00</td>\n",
       "    </tr>\n",
       "    <tr>\n",
       "      <th>2</th>\n",
       "      <td>1737479987</td>\n",
       "      <td>https://twitter.com/realDonaldTrump/status/1737479987</td>\n",
       "      <td>Donald Trump reads Top Ten Financial Tips on Late Show with David Letterman: http://tinyurl.com/ooafwn - Very funny!</td>\n",
       "      <td>2009-05-08 15:38:08</td>\n",
       "      <td>12</td>\n",
       "      <td>18</td>\n",
       "      <td>NaN</td>\n",
       "      <td>NaN</td>\n",
       "      <td>NaN</td>\n",
       "      <td>2009-05-08 15:38:08</td>\n",
       "      <td>8</td>\n",
       "      <td>5</td>\n",
       "      <td>15</td>\n",
       "      <td>2009</td>\n",
       "      <td>2009-05-08</td>\n",
       "      <td>2009-05-08 15:00:00</td>\n",
       "    </tr>\n",
       "    <tr>\n",
       "      <th>3</th>\n",
       "      <td>1741160716</td>\n",
       "      <td>https://twitter.com/realDonaldTrump/status/1741160716</td>\n",
       "      <td>New Blog Post: Celebrity Apprentice Finale and Lessons Learned Along the Way: http://tinyurl.com/qlux5e</td>\n",
       "      <td>2009-05-08 22:40:15</td>\n",
       "      <td>11</td>\n",
       "      <td>24</td>\n",
       "      <td>NaN</td>\n",
       "      <td>NaN</td>\n",
       "      <td>NaN</td>\n",
       "      <td>2009-05-08 22:40:15</td>\n",
       "      <td>8</td>\n",
       "      <td>5</td>\n",
       "      <td>22</td>\n",
       "      <td>2009</td>\n",
       "      <td>2009-05-08</td>\n",
       "      <td>2009-05-08 22:00:00</td>\n",
       "    </tr>\n",
       "    <tr>\n",
       "      <th>4</th>\n",
       "      <td>1773561338</td>\n",
       "      <td>https://twitter.com/realDonaldTrump/status/1773561338</td>\n",
       "      <td>\"My persona will never be that of a wallflower - I’d rather build walls than cling to them\" --Donald J. Trump</td>\n",
       "      <td>2009-05-12 16:07:28</td>\n",
       "      <td>1399</td>\n",
       "      <td>1965</td>\n",
       "      <td>NaN</td>\n",
       "      <td>NaN</td>\n",
       "      <td>NaN</td>\n",
       "      <td>2009-05-12 16:07:28</td>\n",
       "      <td>12</td>\n",
       "      <td>5</td>\n",
       "      <td>16</td>\n",
       "      <td>2009</td>\n",
       "      <td>2009-05-12</td>\n",
       "      <td>2009-05-12 16:00:00</td>\n",
       "    </tr>\n",
       "  </tbody>\n",
       "</table>\n",
       "</div>"
      ],
      "text/plain": [
       "           id                                                   link  \\\n",
       "0  1698308935  https://twitter.com/realDonaldTrump/status/1698308935   \n",
       "1  1701461182  https://twitter.com/realDonaldTrump/status/1701461182   \n",
       "2  1737479987  https://twitter.com/realDonaldTrump/status/1737479987   \n",
       "3  1741160716  https://twitter.com/realDonaldTrump/status/1741160716   \n",
       "4  1773561338  https://twitter.com/realDonaldTrump/status/1773561338   \n",
       "\n",
       "                                                                                                                               content  \\\n",
       "0                Be sure to tune in and watch Donald Trump on Late Night with David Letterman as he presents the Top Ten List tonight!   \n",
       "1  Donald Trump will be appearing on The View tomorrow morning to discuss Celebrity Apprentice and his new book Think Like A Champion!   \n",
       "2                 Donald Trump reads Top Ten Financial Tips on Late Show with David Letterman: http://tinyurl.com/ooafwn - Very funny!   \n",
       "3                              New Blog Post: Celebrity Apprentice Finale and Lessons Learned Along the Way: http://tinyurl.com/qlux5e   \n",
       "4                        \"My persona will never be that of a wallflower - I’d rather build walls than cling to them\" --Donald J. Trump   \n",
       "\n",
       "                  date  retweets  favorites mentions hashtags  geo  \\\n",
       "0  2009-05-04 20:54:25       500        868      NaN      NaN  NaN   \n",
       "1  2009-05-05 03:00:10        33        273      NaN      NaN  NaN   \n",
       "2  2009-05-08 15:38:08        12         18      NaN      NaN  NaN   \n",
       "3  2009-05-08 22:40:15        11         24      NaN      NaN  NaN   \n",
       "4  2009-05-12 16:07:28      1399       1965      NaN      NaN  NaN   \n",
       "\n",
       "             datetime  day  month  hour  year     mon_yr           mon_yr_hr  \n",
       "0 2009-05-04 20:54:25    4      5    20  2009 2009-05-04 2009-05-04 20:00:00  \n",
       "1 2009-05-05 03:00:10    5      5     3  2009 2009-05-05 2009-05-05 03:00:00  \n",
       "2 2009-05-08 15:38:08    8      5    15  2009 2009-05-08 2009-05-08 15:00:00  \n",
       "3 2009-05-08 22:40:15    8      5    22  2009 2009-05-08 2009-05-08 22:00:00  \n",
       "4 2009-05-12 16:07:28   12      5    16  2009 2009-05-12 2009-05-12 16:00:00  "
      ]
     },
     "execution_count": 41,
     "metadata": {},
     "output_type": "execute_result"
    }
   ],
   "source": [
    "trump_df.head()"
   ]
  },
  {
   "cell_type": "code",
   "execution_count": null,
   "metadata": {
    "id": "jTw3-EdVYKkK"
   },
   "outputs": [],
   "source": [
    "tweet_count = trump_df.groupby('mon_yr').size().reset_index(name='tweet_count')\n",
    "tweet_count_1 = tweet_count[np.logical_and((tweet_count['mon_yr']>'2015-09-01'),(tweet_count['mon_yr']<'2016-09-30'))==True]"
   ]
  },
  {
   "cell_type": "code",
   "execution_count": null,
   "metadata": {
    "id": "HZkCy4jbYKkK",
    "outputId": "e7e42181-ff2f-4331-ad03-06ef6cc17a6a"
   },
   "outputs": [
    {
     "data": {
      "image/png": "[encoded data removed]",
      "text/plain": [
       "<Figure size 1440x720 with 1 Axes>"
      ]
     },
     "metadata": {
      "needs_background": "light"
     },
     "output_type": "display_data"
    }
   ],
   "source": [
    "plt.figure(figsize=(20,10))\n",
    "plt.plot(tweet_count_1['mon_yr'],tweet_count_1['tweet_count'])\n",
    "plt.show()"
   ]
  },
  {
   "cell_type": "code",
   "execution_count": null,
   "metadata": {
    "id": "khRVfTLkYKkL"
   },
   "outputs": [],
   "source": [
    "tokenizer = ToktokTokenizer()\n",
    "stopwords_list = nltk.corpus.stopwords.words('english')"
   ]
  },
  {
   "cell_type": "code",
   "execution_count": null,
   "metadata": {
    "id": "48EiJg56YKkM"
   },
   "outputs": [],
   "source": [
    "df = trump_df[['content','retweets','favorites']]"
   ]
  },
  {
   "cell_type": "code",
   "execution_count": null,
   "metadata": {
    "id": "iu9hooxVYKkM",
    "outputId": "4c418ec7-d818-4c91-8cc8-1af43805da28"
   },
   "outputs": [
    {
     "data": {
      "text/html": [
       "<div>\n",
       "<style scoped>\n",
       "    .dataframe tbody tr th:only-of-type {\n",
       "        vertical-align: middle;\n",
       "    }\n",
       "\n",
       "    .dataframe tbody tr th {\n",
       "        vertical-align: top;\n",
       "    }\n",
       "\n",
       "    .dataframe thead th {\n",
       "        text-align: right;\n",
       "    }\n",
       "</style>\n",
       "<table border=\"1\" class=\"dataframe\">\n",
       "  <thead>\n",
       "    <tr style=\"text-align: right;\">\n",
       "      <th></th>\n",
       "      <th>content</th>\n",
       "      <th>retweets</th>\n",
       "      <th>favorites</th>\n",
       "    </tr>\n",
       "  </thead>\n",
       "  <tbody>\n",
       "    <tr>\n",
       "      <th>0</th>\n",
       "      <td>Be sure to tune in and watch Donald Trump on Late Night with David Letterman as he presents the Top Ten List tonight!</td>\n",
       "      <td>500</td>\n",
       "      <td>868</td>\n",
       "    </tr>\n",
       "    <tr>\n",
       "      <th>1</th>\n",
       "      <td>Donald Trump will be appearing on The View tomorrow morning to discuss Celebrity Apprentice and his new book Think Like A Champion!</td>\n",
       "      <td>33</td>\n",
       "      <td>273</td>\n",
       "    </tr>\n",
       "    <tr>\n",
       "      <th>2</th>\n",
       "      <td>Donald Trump reads Top Ten Financial Tips on Late Show with David Letterman: http://tinyurl.com/ooafwn - Very funny!</td>\n",
       "      <td>12</td>\n",
       "      <td>18</td>\n",
       "    </tr>\n",
       "    <tr>\n",
       "      <th>3</th>\n",
       "      <td>New Blog Post: Celebrity Apprentice Finale and Lessons Learned Along the Way: http://tinyurl.com/qlux5e</td>\n",
       "      <td>11</td>\n",
       "      <td>24</td>\n",
       "    </tr>\n",
       "    <tr>\n",
       "      <th>4</th>\n",
       "      <td>\"My persona will never be that of a wallflower - I’d rather build walls than cling to them\" --Donald J. Trump</td>\n",
       "      <td>1399</td>\n",
       "      <td>1965</td>\n",
       "    </tr>\n",
       "  </tbody>\n",
       "</table>\n",
       "</div>"
      ],
      "text/plain": [
       "                                                                                                                               content  \\\n",
       "0                Be sure to tune in and watch Donald Trump on Late Night with David Letterman as he presents the Top Ten List tonight!   \n",
       "1  Donald Trump will be appearing on The View tomorrow morning to discuss Celebrity Apprentice and his new book Think Like A Champion!   \n",
       "2                 Donald Trump reads Top Ten Financial Tips on Late Show with David Letterman: http://tinyurl.com/ooafwn - Very funny!   \n",
       "3                              New Blog Post: Celebrity Apprentice Finale and Lessons Learned Along the Way: http://tinyurl.com/qlux5e   \n",
       "4                        \"My persona will never be that of a wallflower - I’d rather build walls than cling to them\" --Donald J. Trump   \n",
       "\n",
       "   retweets  favorites  \n",
       "0       500        868  \n",
       "1        33        273  \n",
       "2        12         18  \n",
       "3        11         24  \n",
       "4      1399       1965  "
      ]
     },
     "execution_count": 46,
     "metadata": {},
     "output_type": "execute_result"
    }
   ],
   "source": [
    "df.head()"
   ]
  },
  {
   "cell_type": "code",
   "execution_count": null,
   "metadata": {
    "id": "619S30-NYKkN",
    "outputId": "613bc4c7-d064-4c57-b68e-e937fec94192"
   },
   "outputs": [
    {
     "name": "stderr",
     "output_type": "stream",
     "text": [
      "[nltk_data] Downloading package wordnet to\n",
      "[nltk_data]     C:\\Users\\admin\\AppData\\Roaming\\nltk_data...\n",
      "[nltk_data]   Package wordnet is already up-to-date!\n",
      "[nltk_data] Downloading package omw-1.4 to\n",
      "[nltk_data]     C:\\Users\\admin\\AppData\\Roaming\\nltk_data...\n",
      "[nltk_data]   Package omw-1.4 is already up-to-date!\n",
      "[nltk_data] Downloading package stopwords to\n",
      "[nltk_data]     C:\\Users\\admin\\AppData\\Roaming\\nltk_data...\n",
      "[nltk_data]   Package stopwords is already up-to-date!\n",
      "[nltk_data] Downloading package punkt to\n",
      "[nltk_data]     C:\\Users\\admin\\AppData\\Roaming\\nltk_data...\n",
      "[nltk_data]   Package punkt is already up-to-date!\n"
     ]
    },
    {
     "data": {
      "text/plain": [
       "True"
      ]
     },
     "execution_count": 47,
     "metadata": {},
     "output_type": "execute_result"
    }
   ],
   "source": [
    "nltk.download('wordnet')\n",
    "nltk.download('omw-1.4')\n",
    "nltk.download('stopwords')\n",
    "nltk.download('punkt')"
   ]
  },
  {
   "cell_type": "code",
   "execution_count": null,
   "metadata": {
    "id": "_IDgNDddYKkO"
   },
   "outputs": [],
   "source": [
    "stemmer = PorterStemmer()\n",
    "leammatizer = WordNetLemmatizer()"
   ]
  },
  {
   "cell_type": "code",
   "execution_count": null,
   "metadata": {
    "id": "Tx0HSYpNYKkO",
    "outputId": "02534111-d309-4bb8-9159-455d57ac209e"
   },
   "outputs": [
    {
     "data": {
      "text/html": [
       "<div>\n",
       "<style scoped>\n",
       "    .dataframe tbody tr th:only-of-type {\n",
       "        vertical-align: middle;\n",
       "    }\n",
       "\n",
       "    .dataframe tbody tr th {\n",
       "        vertical-align: top;\n",
       "    }\n",
       "\n",
       "    .dataframe thead th {\n",
       "        text-align: right;\n",
       "    }\n",
       "</style>\n",
       "<table border=\"1\" class=\"dataframe\">\n",
       "  <thead>\n",
       "    <tr style=\"text-align: right;\">\n",
       "      <th></th>\n",
       "      <th>content</th>\n",
       "      <th>retweets</th>\n",
       "      <th>favorites</th>\n",
       "      <th>review</th>\n",
       "    </tr>\n",
       "  </thead>\n",
       "  <tbody>\n",
       "    <tr>\n",
       "      <th>0</th>\n",
       "      <td>Be sure to tune in and watch Donald Trump on Late Night with David Letterman as he presents the Top Ten List tonight!</td>\n",
       "      <td>500</td>\n",
       "      <td>868</td>\n",
       "      <td>Be sure to tune in and watch Donald Trump on Late Night with David Letterman as he presents the Top Ten List tonight!</td>\n",
       "    </tr>\n",
       "    <tr>\n",
       "      <th>1</th>\n",
       "      <td>Donald Trump will be appearing on The View tomorrow morning to discuss Celebrity Apprentice and his new book Think Like A Champion!</td>\n",
       "      <td>33</td>\n",
       "      <td>273</td>\n",
       "      <td>Donald Trump will be appearing on The View tomorrow morning to discuss Celebrity Apprentice and his new book Think Like A Champion!</td>\n",
       "    </tr>\n",
       "    <tr>\n",
       "      <th>2</th>\n",
       "      <td>Donald Trump reads Top Ten Financial Tips on Late Show with David Letterman: http://tinyurl.com/ooafwn - Very funny!</td>\n",
       "      <td>12</td>\n",
       "      <td>18</td>\n",
       "      <td>Donald Trump reads Top Ten Financial Tips on Late Show with David Letterman:</td>\n",
       "    </tr>\n",
       "    <tr>\n",
       "      <th>3</th>\n",
       "      <td>New Blog Post: Celebrity Apprentice Finale and Lessons Learned Along the Way: http://tinyurl.com/qlux5e</td>\n",
       "      <td>11</td>\n",
       "      <td>24</td>\n",
       "      <td>New Blog Post:</td>\n",
       "    </tr>\n",
       "    <tr>\n",
       "      <th>4</th>\n",
       "      <td>\"My persona will never be that of a wallflower - I’d rather build walls than cling to them\" --Donald J. Trump</td>\n",
       "      <td>1399</td>\n",
       "      <td>1965</td>\n",
       "      <td>\"My persona will never be that of a wallflower - I’d rather build walls than cling to them\" --Donald J. Trump</td>\n",
       "    </tr>\n",
       "  </tbody>\n",
       "</table>\n",
       "</div>"
      ],
      "text/plain": [
       "                                                                                                                               content  \\\n",
       "0                Be sure to tune in and watch Donald Trump on Late Night with David Letterman as he presents the Top Ten List tonight!   \n",
       "1  Donald Trump will be appearing on The View tomorrow morning to discuss Celebrity Apprentice and his new book Think Like A Champion!   \n",
       "2                 Donald Trump reads Top Ten Financial Tips on Late Show with David Letterman: http://tinyurl.com/ooafwn - Very funny!   \n",
       "3                              New Blog Post: Celebrity Apprentice Finale and Lessons Learned Along the Way: http://tinyurl.com/qlux5e   \n",
       "4                        \"My persona will never be that of a wallflower - I’d rather build walls than cling to them\" --Donald J. Trump   \n",
       "\n",
       "   retweets  favorites  \\\n",
       "0       500        868   \n",
       "1        33        273   \n",
       "2        12         18   \n",
       "3        11         24   \n",
       "4      1399       1965   \n",
       "\n",
       "                                                                                                                                review  \n",
       "0                Be sure to tune in and watch Donald Trump on Late Night with David Letterman as he presents the Top Ten List tonight!  \n",
       "1  Donald Trump will be appearing on The View tomorrow morning to discuss Celebrity Apprentice and his new book Think Like A Champion!  \n",
       "2                                                         Donald Trump reads Top Ten Financial Tips on Late Show with David Letterman:  \n",
       "3                                                                                                                       New Blog Post:  \n",
       "4                        \"My persona will never be that of a wallflower - I’d rather build walls than cling to them\" --Donald J. Trump  "
      ]
     },
     "execution_count": 49,
     "metadata": {},
     "output_type": "execute_result"
    }
   ],
   "source": [
    "def remove_html(text):\n",
    "    return re.sub(r':.*$', \":\",text) #Remove urls\n",
    "\n",
    "def strip_html(text):\n",
    "    soup = BeautifulSoup(text,\"html.parser\") #Remove https words\n",
    "    return soup.get_text()\n",
    "\n",
    "def remove_between_square_brackets(text):\n",
    "    return re.sub('\\[[^]]*\\]','',text)   #Remove special characters\n",
    "\n",
    "def denoise_text(text):\n",
    "    text = remove_html(text)\n",
    "    text = strip_html(text)\n",
    "    text = remove_between_square_brackets(text)\n",
    "    return text  #Function call\n",
    "  \n",
    "df['review'] = df['content'].apply(denoise_text)\n",
    "df.head(5)"
   ]
  },
  {
   "cell_type": "markdown",
   "metadata": {
    "id": "QklBk9O9YKkP"
   },
   "source": [
    "### Removing Special characters"
   ]
  },
  {
   "cell_type": "code",
   "execution_count": null,
   "metadata": {
    "id": "bFAXUF0jYKkP",
    "outputId": "00621303-262d-45f7-9404-1e1352a1253a"
   },
   "outputs": [
    {
     "data": {
      "text/html": [
       "<div>\n",
       "<style scoped>\n",
       "    .dataframe tbody tr th:only-of-type {\n",
       "        vertical-align: middle;\n",
       "    }\n",
       "\n",
       "    .dataframe tbody tr th {\n",
       "        vertical-align: top;\n",
       "    }\n",
       "\n",
       "    .dataframe thead th {\n",
       "        text-align: right;\n",
       "    }\n",
       "</style>\n",
       "<table border=\"1\" class=\"dataframe\">\n",
       "  <thead>\n",
       "    <tr style=\"text-align: right;\">\n",
       "      <th></th>\n",
       "      <th>content</th>\n",
       "      <th>retweets</th>\n",
       "      <th>favorites</th>\n",
       "      <th>review</th>\n",
       "    </tr>\n",
       "  </thead>\n",
       "  <tbody>\n",
       "    <tr>\n",
       "      <th>0</th>\n",
       "      <td>Be sure to tune in and watch Donald Trump on Late Night with David Letterman as he presents the Top Ten List tonight!</td>\n",
       "      <td>500</td>\n",
       "      <td>868</td>\n",
       "      <td>Be sure to tune in and watch Donald Trump on Late Night with David Letterman as he presents the Top Ten List tonight</td>\n",
       "    </tr>\n",
       "    <tr>\n",
       "      <th>1</th>\n",
       "      <td>Donald Trump will be appearing on The View tomorrow morning to discuss Celebrity Apprentice and his new book Think Like A Champion!</td>\n",
       "      <td>33</td>\n",
       "      <td>273</td>\n",
       "      <td>Donald Trump will be appearing on The View tomorrow morning to discuss Celebrity Apprentice and his new book Think Like A Champion</td>\n",
       "    </tr>\n",
       "  </tbody>\n",
       "</table>\n",
       "</div>"
      ],
      "text/plain": [
       "                                                                                                                               content  \\\n",
       "0                Be sure to tune in and watch Donald Trump on Late Night with David Letterman as he presents the Top Ten List tonight!   \n",
       "1  Donald Trump will be appearing on The View tomorrow morning to discuss Celebrity Apprentice and his new book Think Like A Champion!   \n",
       "\n",
       "   retweets  favorites  \\\n",
       "0       500        868   \n",
       "1        33        273   \n",
       "\n",
       "                                                                                                                               review  \n",
       "0                Be sure to tune in and watch Donald Trump on Late Night with David Letterman as he presents the Top Ten List tonight  \n",
       "1  Donald Trump will be appearing on The View tomorrow morning to discuss Celebrity Apprentice and his new book Think Like A Champion  "
      ]
     },
     "execution_count": 50,
     "metadata": {},
     "output_type": "execute_result"
    }
   ],
   "source": [
    "def remove_special_characters(text,remove_digits=True):\n",
    "    pattern = r'[^a-zA-Z0-9\\s]'\n",
    "    text = re.sub(pattern,'',text)\n",
    "    return text\n",
    "\n",
    "df['review'] = df['review'].apply(remove_special_characters)\n",
    "df.head(2)"
   ]
  },
  {
   "cell_type": "code",
   "execution_count": null,
   "metadata": {
    "id": "_Oc6XPm7YKkQ",
    "outputId": "2530d1a9-a0e8-4dba-aeaa-e282e9a18b9e"
   },
   "outputs": [
    {
     "data": {
      "text/html": [
       "<div>\n",
       "<style scoped>\n",
       "    .dataframe tbody tr th:only-of-type {\n",
       "        vertical-align: middle;\n",
       "    }\n",
       "\n",
       "    .dataframe tbody tr th {\n",
       "        vertical-align: top;\n",
       "    }\n",
       "\n",
       "    .dataframe thead th {\n",
       "        text-align: right;\n",
       "    }\n",
       "</style>\n",
       "<table border=\"1\" class=\"dataframe\">\n",
       "  <thead>\n",
       "    <tr style=\"text-align: right;\">\n",
       "      <th></th>\n",
       "      <th>content</th>\n",
       "      <th>retweets</th>\n",
       "      <th>favorites</th>\n",
       "      <th>review</th>\n",
       "      <th>stem_review</th>\n",
       "    </tr>\n",
       "  </thead>\n",
       "  <tbody>\n",
       "    <tr>\n",
       "      <th>0</th>\n",
       "      <td>Be sure to tune in and watch Donald Trump on Late Night with David Letterman as he presents the Top Ten List tonight!</td>\n",
       "      <td>500</td>\n",
       "      <td>868</td>\n",
       "      <td>Be sure to tune in and watch Donald Trump on Late Night with David Letterman as he presents the Top Ten List tonight</td>\n",
       "      <td>be sure to tune in and watch donald trump on late night with david letterman as he present the top ten list tonight</td>\n",
       "    </tr>\n",
       "    <tr>\n",
       "      <th>1</th>\n",
       "      <td>Donald Trump will be appearing on The View tomorrow morning to discuss Celebrity Apprentice and his new book Think Like A Champion!</td>\n",
       "      <td>33</td>\n",
       "      <td>273</td>\n",
       "      <td>Donald Trump will be appearing on The View tomorrow morning to discuss Celebrity Apprentice and his new book Think Like A Champion</td>\n",
       "      <td>donald trump will be appear on the view tomorrow morn to discuss celebr apprentic and hi new book think like a champion</td>\n",
       "    </tr>\n",
       "  </tbody>\n",
       "</table>\n",
       "</div>"
      ],
      "text/plain": [
       "                                                                                                                               content  \\\n",
       "0                Be sure to tune in and watch Donald Trump on Late Night with David Letterman as he presents the Top Ten List tonight!   \n",
       "1  Donald Trump will be appearing on The View tomorrow morning to discuss Celebrity Apprentice and his new book Think Like A Champion!   \n",
       "\n",
       "   retweets  favorites  \\\n",
       "0       500        868   \n",
       "1        33        273   \n",
       "\n",
       "                                                                                                                               review  \\\n",
       "0                Be sure to tune in and watch Donald Trump on Late Night with David Letterman as he presents the Top Ten List tonight   \n",
       "1  Donald Trump will be appearing on The View tomorrow morning to discuss Celebrity Apprentice and his new book Think Like A Champion   \n",
       "\n",
       "                                                                                                               stem_review  \n",
       "0      be sure to tune in and watch donald trump on late night with david letterman as he present the top ten list tonight  \n",
       "1  donald trump will be appear on the view tomorrow morn to discuss celebr apprentic and hi new book think like a champion  "
      ]
     },
     "execution_count": 51,
     "metadata": {},
     "output_type": "execute_result"
    }
   ],
   "source": [
    "def simpleStemmer(text):\n",
    "    ps = nltk.porter.PorterStemmer()\n",
    "    text = ' '.join([ps.stem(word) for word in text.split()])\n",
    "    return text\n",
    "\n",
    "df['stem_review'] = df['review'].apply(simpleStemmer)\n",
    "df.head(2)"
   ]
  },
  {
   "cell_type": "code",
   "execution_count": null,
   "metadata": {
    "id": "Rvuk2BwLYKkQ",
    "outputId": "4686471f-529f-4ee9-b1af-05693db5a2cb"
   },
   "outputs": [
    {
     "data": {
      "text/html": [
       "<div>\n",
       "<style scoped>\n",
       "    .dataframe tbody tr th:only-of-type {\n",
       "        vertical-align: middle;\n",
       "    }\n",
       "\n",
       "    .dataframe tbody tr th {\n",
       "        vertical-align: top;\n",
       "    }\n",
       "\n",
       "    .dataframe thead th {\n",
       "        text-align: right;\n",
       "    }\n",
       "</style>\n",
       "<table border=\"1\" class=\"dataframe\">\n",
       "  <thead>\n",
       "    <tr style=\"text-align: right;\">\n",
       "      <th></th>\n",
       "      <th>content</th>\n",
       "      <th>retweets</th>\n",
       "      <th>favorites</th>\n",
       "      <th>review</th>\n",
       "      <th>stem_review</th>\n",
       "      <th>lemmatize_review</th>\n",
       "    </tr>\n",
       "  </thead>\n",
       "  <tbody>\n",
       "    <tr>\n",
       "      <th>0</th>\n",
       "      <td>Be sure to tune in and watch Donald Trump on Late Night with David Letterman as he presents the Top Ten List tonight!</td>\n",
       "      <td>500</td>\n",
       "      <td>868</td>\n",
       "      <td>Be sure to tune in and watch Donald Trump on Late Night with David Letterman as he presents the Top Ten List tonight</td>\n",
       "      <td>be sure to tune in and watch donald trump on late night with david letterman as he present the top ten list tonight</td>\n",
       "      <td>Be sure to tune in and watch Donald Trump on Late Night with David Letterman a he present the Top Ten List tonight</td>\n",
       "    </tr>\n",
       "    <tr>\n",
       "      <th>1</th>\n",
       "      <td>Donald Trump will be appearing on The View tomorrow morning to discuss Celebrity Apprentice and his new book Think Like A Champion!</td>\n",
       "      <td>33</td>\n",
       "      <td>273</td>\n",
       "      <td>Donald Trump will be appearing on The View tomorrow morning to discuss Celebrity Apprentice and his new book Think Like A Champion</td>\n",
       "      <td>donald trump will be appear on the view tomorrow morn to discuss celebr apprentic and hi new book think like a champion</td>\n",
       "      <td>Donald Trump will be appearing on The View tomorrow morning to discus Celebrity Apprentice and his new book Think Like A Champion</td>\n",
       "    </tr>\n",
       "  </tbody>\n",
       "</table>\n",
       "</div>"
      ],
      "text/plain": [
       "                                                                                                                               content  \\\n",
       "0                Be sure to tune in and watch Donald Trump on Late Night with David Letterman as he presents the Top Ten List tonight!   \n",
       "1  Donald Trump will be appearing on The View tomorrow morning to discuss Celebrity Apprentice and his new book Think Like A Champion!   \n",
       "\n",
       "   retweets  favorites  \\\n",
       "0       500        868   \n",
       "1        33        273   \n",
       "\n",
       "                                                                                                                               review  \\\n",
       "0                Be sure to tune in and watch Donald Trump on Late Night with David Letterman as he presents the Top Ten List tonight   \n",
       "1  Donald Trump will be appearing on The View tomorrow morning to discuss Celebrity Apprentice and his new book Think Like A Champion   \n",
       "\n",
       "                                                                                                               stem_review  \\\n",
       "0      be sure to tune in and watch donald trump on late night with david letterman as he present the top ten list tonight   \n",
       "1  donald trump will be appear on the view tomorrow morn to discuss celebr apprentic and hi new book think like a champion   \n",
       "\n",
       "                                                                                                                    lemmatize_review  \n",
       "0                 Be sure to tune in and watch Donald Trump on Late Night with David Letterman a he present the Top Ten List tonight  \n",
       "1  Donald Trump will be appearing on The View tomorrow morning to discus Celebrity Apprentice and his new book Think Like A Champion  "
      ]
     },
     "execution_count": 56,
     "metadata": {},
     "output_type": "execute_result"
    }
   ],
   "source": [
    "def simpleLemmatization(text):\n",
    "    lemma = nltk.stem.WordNetLemmatizer()\n",
    "    text = ' '.join([lemma.lemmatize(word) for word in text.split()])\n",
    "    return text\n",
    "\n",
    "df['lemmatize_review'] = df['review'].apply(simpleLemmatization)\n",
    "df.head(2)"
   ]
  },
  {
   "cell_type": "code",
   "execution_count": null,
   "metadata": {
    "id": "JlvTK96NYKkR",
    "outputId": "b4f508f1-648d-4b34-ca04-e35f443caec2"
   },
   "outputs": [
    {
     "data": {
      "text/html": [
       "<div>\n",
       "<style scoped>\n",
       "    .dataframe tbody tr th:only-of-type {\n",
       "        vertical-align: middle;\n",
       "    }\n",
       "\n",
       "    .dataframe tbody tr th {\n",
       "        vertical-align: top;\n",
       "    }\n",
       "\n",
       "    .dataframe thead th {\n",
       "        text-align: right;\n",
       "    }\n",
       "</style>\n",
       "<table border=\"1\" class=\"dataframe\">\n",
       "  <thead>\n",
       "    <tr style=\"text-align: right;\">\n",
       "      <th></th>\n",
       "      <th>content</th>\n",
       "      <th>retweets</th>\n",
       "      <th>favorites</th>\n",
       "      <th>review</th>\n",
       "      <th>stem_review</th>\n",
       "      <th>lemmatize_review</th>\n",
       "      <th>final_review</th>\n",
       "    </tr>\n",
       "  </thead>\n",
       "  <tbody>\n",
       "    <tr>\n",
       "      <th>0</th>\n",
       "      <td>Be sure to tune in and watch Donald Trump on Late Night with David Letterman as he presents the Top Ten List tonight!</td>\n",
       "      <td>500</td>\n",
       "      <td>868</td>\n",
       "      <td>Be sure to tune in and watch Donald Trump on Late Night with David Letterman as he presents the Top Ten List tonight</td>\n",
       "      <td>be sure to tune in and watch donald trump on late night with david letterman as he present the top ten list tonight</td>\n",
       "      <td>Be sure to tune in and watch Donald Trump on Late Night with David Letterman a he present the Top Ten List tonight</td>\n",
       "      <td>sure tune watch Donald Trump Late Night David Letterman presents Top Ten List tonight</td>\n",
       "    </tr>\n",
       "    <tr>\n",
       "      <th>1</th>\n",
       "      <td>Donald Trump will be appearing on The View tomorrow morning to discuss Celebrity Apprentice and his new book Think Like A Champion!</td>\n",
       "      <td>33</td>\n",
       "      <td>273</td>\n",
       "      <td>Donald Trump will be appearing on The View tomorrow morning to discuss Celebrity Apprentice and his new book Think Like A Champion</td>\n",
       "      <td>donald trump will be appear on the view tomorrow morn to discuss celebr apprentic and hi new book think like a champion</td>\n",
       "      <td>Donald Trump will be appearing on The View tomorrow morning to discus Celebrity Apprentice and his new book Think Like A Champion</td>\n",
       "      <td>Donald Trump appearing View tomorrow morning discuss Celebrity Apprentice new book Think Like Champion</td>\n",
       "    </tr>\n",
       "  </tbody>\n",
       "</table>\n",
       "</div>"
      ],
      "text/plain": [
       "                                                                                                                               content  \\\n",
       "0                Be sure to tune in and watch Donald Trump on Late Night with David Letterman as he presents the Top Ten List tonight!   \n",
       "1  Donald Trump will be appearing on The View tomorrow morning to discuss Celebrity Apprentice and his new book Think Like A Champion!   \n",
       "\n",
       "   retweets  favorites  \\\n",
       "0       500        868   \n",
       "1        33        273   \n",
       "\n",
       "                                                                                                                               review  \\\n",
       "0                Be sure to tune in and watch Donald Trump on Late Night with David Letterman as he presents the Top Ten List tonight   \n",
       "1  Donald Trump will be appearing on The View tomorrow morning to discuss Celebrity Apprentice and his new book Think Like A Champion   \n",
       "\n",
       "                                                                                                               stem_review  \\\n",
       "0      be sure to tune in and watch donald trump on late night with david letterman as he present the top ten list tonight   \n",
       "1  donald trump will be appear on the view tomorrow morn to discuss celebr apprentic and hi new book think like a champion   \n",
       "\n",
       "                                                                                                                    lemmatize_review  \\\n",
       "0                 Be sure to tune in and watch Donald Trump on Late Night with David Letterman a he present the Top Ten List tonight   \n",
       "1  Donald Trump will be appearing on The View tomorrow morning to discus Celebrity Apprentice and his new book Think Like A Champion   \n",
       "\n",
       "                                                                                             final_review  \n",
       "0                   sure tune watch Donald Trump Late Night David Letterman presents Top Ten List tonight  \n",
       "1  Donald Trump appearing View tomorrow morning discuss Celebrity Apprentice new book Think Like Champion  "
      ]
     },
     "execution_count": 63,
     "metadata": {},
     "output_type": "execute_result"
    }
   ],
   "source": [
    "stopwords = nltk.corpus.stopwords.words('english')\n",
    "\n",
    "def remove_stopwords(text,is_lower_case=False):\n",
    "    tokens = tokenizer.tokenize(text)\n",
    "    tokens = [token.strip() for token in tokens]\n",
    "    if is_lower_case:\n",
    "        filtered_tokens = [token for token in tokens if token not in stopwords_list]\n",
    "    else:\n",
    "        filtered_tokens = [token for token in tokens if token.lower() not in stopwords_list]\n",
    "    filtered_text = ' '.join(filtered_tokens)\n",
    "    return filtered_text\n",
    "\n",
    "df['final_review'] = df['review'].apply(remove_stopwords)\n",
    "df.head(2)"
   ]
  },
  {
   "cell_type": "markdown",
   "metadata": {
    "id": "NRT1HiGkYKkR"
   },
   "source": [
    "### Normalised train and test reviews"
   ]
  },
  {
   "cell_type": "code",
   "execution_count": null,
   "metadata": {
    "id": "rryezl7vYKkS",
    "outputId": "e65a364b-e5ce-4c66-c819-ceb0b8ad277b"
   },
   "outputs": [
    {
     "name": "stdout",
     "output_type": "stream",
     "text": [
      "sure tune watch Donald Trump Late Night David Letterman presents Top Ten List tonight\n",
      "FBI texts revealed antiTrump Bias FoxNews Big News Fake News doesnt want cover Total corruption Witch Hunt turned scam point soon Mainstream Media cover correctly big story\n"
     ]
    }
   ],
   "source": [
    "norm_train_reviews = df.final_review[:34000]\n",
    "print(norm_train_reviews[0])\n",
    "\n",
    "norm_test_reviews=df.final_review[34000:]\n",
    "print(norm_test_reviews[34500])"
   ]
  },
  {
   "cell_type": "markdown",
   "metadata": {
    "id": "i_yL5Nt-YKkS"
   },
   "source": [
    "### Bag of Words"
   ]
  },
  {
   "cell_type": "code",
   "execution_count": null,
   "metadata": {
    "id": "hbTu_3zvYKkS",
    "outputId": "7c307606-585e-4057-def5-077565a2ad38"
   },
   "outputs": [
    {
     "name": "stdout",
     "output_type": "stream",
     "text": [
      "BOW_cv_train: (34000, 303662)\n",
      "BOW_cv_test: (7122, 303662)\n"
     ]
    }
   ],
   "source": [
    "cv = CountVectorizer(min_df=0,max_df=1,binary=False,ngram_range=(1,3))\n",
    "cv_train_reviews = cv.fit_transform(norm_train_reviews)\n",
    "cv_test_reviews = cv.transform(norm_test_reviews)\n",
    "\n",
    "print('BOW_cv_train:',cv_train_reviews.shape)\n",
    "print('BOW_cv_test:',cv_test_reviews.shape)"
   ]
  },
  {
   "cell_type": "code",
   "execution_count": null,
   "metadata": {
    "id": "x7csTysYYKkT",
    "outputId": "d64431c9-fbf0-458b-df01-885262b9e26f"
   },
   "outputs": [
    {
     "data": {
      "text/plain": [
       "<1x303662 sparse matrix of type '<class 'numpy.int64'>'\n",
       "\twith 10 stored elements in Compressed Sparse Row format>"
      ]
     },
     "execution_count": 78,
     "metadata": {},
     "output_type": "execute_result"
    }
   ],
   "source": [
    "cv_train_reviews[1]"
   ]
  },
  {
   "cell_type": "code",
   "execution_count": null,
   "metadata": {
    "id": "l_A6Y5VlYKkU",
    "outputId": "3c027473-e154-481c-e866-71034f679fa7"
   },
   "outputs": [
    {
     "data": {
      "text/plain": [
       "array([[0, 0, 0, ..., 0, 0, 0]], dtype=int64)"
      ]
     },
     "execution_count": 77,
     "metadata": {},
     "output_type": "execute_result"
    }
   ],
   "source": [
    "cv_train_reviews[1].toarray()"
   ]
  },
  {
   "cell_type": "markdown",
   "metadata": {
    "id": "Up8LMHoCYKkU"
   },
   "source": [
    "### Tf-idf; Term frequency and inverse document frequency"
   ]
  },
  {
   "cell_type": "code",
   "execution_count": null,
   "metadata": {
    "id": "xg8eqTkmYKkU",
    "outputId": "f7c18d74-45d6-497c-de31-9d962c0b1eed"
   },
   "outputs": [
    {
     "name": "stdout",
     "output_type": "stream",
     "text": [
      "Tfidf_train: (34000, 303662)\n",
      "Tfidf_test: (7122, 303662)\n"
     ]
    }
   ],
   "source": [
    "tv = TfidfVectorizer(min_df=0,max_df=1,use_idf=True,ngram_range=(1,3))\n",
    "tv_train_reviews = tv.fit_transform(norm_train_reviews)\n",
    "tv_test_reviews=tv.transform(norm_test_reviews)\n",
    "\n",
    "\n",
    "print('Tfidf_train:',tv_train_reviews.shape)\n",
    "print('Tfidf_test:',tv_test_reviews.shape)"
   ]
  },
  {
   "cell_type": "markdown",
   "metadata": {
    "id": "3TUZt829YKkV"
   },
   "source": [
    "### Polarity and subjectivity"
   ]
  },
  {
   "cell_type": "code",
   "execution_count": null,
   "metadata": {
    "id": "fEZTZlJgYKkV",
    "outputId": "ae91bf14-b803-4603-9618-3beb24b9a813"
   },
   "outputs": [
    {
     "data": {
      "text/html": [
       "<div>\n",
       "<style scoped>\n",
       "    .dataframe tbody tr th:only-of-type {\n",
       "        vertical-align: middle;\n",
       "    }\n",
       "\n",
       "    .dataframe tbody tr th {\n",
       "        vertical-align: top;\n",
       "    }\n",
       "\n",
       "    .dataframe thead th {\n",
       "        text-align: right;\n",
       "    }\n",
       "</style>\n",
       "<table border=\"1\" class=\"dataframe\">\n",
       "  <thead>\n",
       "    <tr style=\"text-align: right;\">\n",
       "      <th></th>\n",
       "      <th>content</th>\n",
       "      <th>retweets</th>\n",
       "      <th>favorites</th>\n",
       "      <th>review</th>\n",
       "      <th>stem_review</th>\n",
       "      <th>lemmatize_review</th>\n",
       "      <th>final_review</th>\n",
       "      <th>polarity</th>\n",
       "      <th>subjectivity</th>\n",
       "    </tr>\n",
       "  </thead>\n",
       "  <tbody>\n",
       "    <tr>\n",
       "      <th>0</th>\n",
       "      <td>Be sure to tune in and watch Donald Trump on Late Night with David Letterman as he presents the Top Ten List tonight!</td>\n",
       "      <td>500</td>\n",
       "      <td>868</td>\n",
       "      <td>Be sure to tune in and watch Donald Trump on Late Night with David Letterman as he presents the Top Ten List tonight</td>\n",
       "      <td>be sure to tune in and watch donald trump on late night with david letterman as he present the top ten list tonight</td>\n",
       "      <td>Be sure to tune in and watch Donald Trump on Late Night with David Letterman a he present the Top Ten List tonight</td>\n",
       "      <td>sure tune watch Donald Trump Late Night David Letterman presents Top Ten List tonight</td>\n",
       "      <td>0.175000</td>\n",
       "      <td>0.497222</td>\n",
       "    </tr>\n",
       "    <tr>\n",
       "      <th>1</th>\n",
       "      <td>Donald Trump will be appearing on The View tomorrow morning to discuss Celebrity Apprentice and his new book Think Like A Champion!</td>\n",
       "      <td>33</td>\n",
       "      <td>273</td>\n",
       "      <td>Donald Trump will be appearing on The View tomorrow morning to discuss Celebrity Apprentice and his new book Think Like A Champion</td>\n",
       "      <td>donald trump will be appear on the view tomorrow morn to discuss celebr apprentic and hi new book think like a champion</td>\n",
       "      <td>Donald Trump will be appearing on The View tomorrow morning to discus Celebrity Apprentice and his new book Think Like A Champion</td>\n",
       "      <td>Donald Trump appearing View tomorrow morning discuss Celebrity Apprentice new book Think Like Champion</td>\n",
       "      <td>0.136364</td>\n",
       "      <td>0.454545</td>\n",
       "    </tr>\n",
       "  </tbody>\n",
       "</table>\n",
       "</div>"
      ],
      "text/plain": [
       "                                                                                                                               content  \\\n",
       "0                Be sure to tune in and watch Donald Trump on Late Night with David Letterman as he presents the Top Ten List tonight!   \n",
       "1  Donald Trump will be appearing on The View tomorrow morning to discuss Celebrity Apprentice and his new book Think Like A Champion!   \n",
       "\n",
       "   retweets  favorites  \\\n",
       "0       500        868   \n",
       "1        33        273   \n",
       "\n",
       "                                                                                                                               review  \\\n",
       "0                Be sure to tune in and watch Donald Trump on Late Night with David Letterman as he presents the Top Ten List tonight   \n",
       "1  Donald Trump will be appearing on The View tomorrow morning to discuss Celebrity Apprentice and his new book Think Like A Champion   \n",
       "\n",
       "                                                                                                               stem_review  \\\n",
       "0      be sure to tune in and watch donald trump on late night with david letterman as he present the top ten list tonight   \n",
       "1  donald trump will be appear on the view tomorrow morn to discuss celebr apprentic and hi new book think like a champion   \n",
       "\n",
       "                                                                                                                    lemmatize_review  \\\n",
       "0                 Be sure to tune in and watch Donald Trump on Late Night with David Letterman a he present the Top Ten List tonight   \n",
       "1  Donald Trump will be appearing on The View tomorrow morning to discus Celebrity Apprentice and his new book Think Like A Champion   \n",
       "\n",
       "                                                                                             final_review  \\\n",
       "0                   sure tune watch Donald Trump Late Night David Letterman presents Top Ten List tonight   \n",
       "1  Donald Trump appearing View tomorrow morning discuss Celebrity Apprentice new book Think Like Champion   \n",
       "\n",
       "   polarity  subjectivity  \n",
       "0  0.175000      0.497222  \n",
       "1  0.136364      0.454545  "
      ]
     },
     "execution_count": 80,
     "metadata": {},
     "output_type": "execute_result"
    }
   ],
   "source": [
    "pol = lambda x:TextBlob(x).sentiment.polarity\n",
    "sub = lambda x:TextBlob(x).sentiment.subjectivity\n",
    "\n",
    "df['polarity'] = df['final_review'].apply(pol)\n",
    "df['subjectivity'] = df['final_review'].apply(sub)\n",
    "\n",
    "df.head(2)"
   ]
  },
  {
   "cell_type": "markdown",
   "metadata": {
    "id": "pEaDnvH2YKkW"
   },
   "source": [
    "### Plot a graph to visualize the most common words used by Donald Trump in his tweets."
   ]
  },
  {
   "cell_type": "code",
   "execution_count": null,
   "metadata": {
    "id": "UBOPTnYZYKkW",
    "outputId": "bba25dc4-95bc-463e-faeb-4e77c0d72ba8"
   },
   "outputs": [
    {
     "data": {
      "text/html": [
       "<div>\n",
       "<style scoped>\n",
       "    .dataframe tbody tr th:only-of-type {\n",
       "        vertical-align: middle;\n",
       "    }\n",
       "\n",
       "    .dataframe tbody tr th {\n",
       "        vertical-align: top;\n",
       "    }\n",
       "\n",
       "    .dataframe thead th {\n",
       "        text-align: right;\n",
       "    }\n",
       "</style>\n",
       "<table border=\"1\" class=\"dataframe\">\n",
       "  <thead>\n",
       "    <tr style=\"text-align: right;\">\n",
       "      <th></th>\n",
       "      <th>content</th>\n",
       "      <th>retweets</th>\n",
       "      <th>favorites</th>\n",
       "      <th>review</th>\n",
       "      <th>stem_review</th>\n",
       "      <th>lemmatize_review</th>\n",
       "      <th>final_review</th>\n",
       "      <th>polarity</th>\n",
       "      <th>subjectivity</th>\n",
       "      <th>tokenize</th>\n",
       "    </tr>\n",
       "  </thead>\n",
       "  <tbody>\n",
       "    <tr>\n",
       "      <th>0</th>\n",
       "      <td>Be sure to tune in and watch Donald Trump on Late Night with David Letterman as he presents the Top Ten List tonight!</td>\n",
       "      <td>500</td>\n",
       "      <td>868</td>\n",
       "      <td>Be sure to tune in and watch Donald Trump on Late Night with David Letterman as he presents the Top Ten List tonight</td>\n",
       "      <td>be sure to tune in and watch donald trump on late night with david letterman as he present the top ten list tonight</td>\n",
       "      <td>Be sure to tune in and watch Donald Trump on Late Night with David Letterman a he present the Top Ten List tonight</td>\n",
       "      <td>sure tune watch Donald Trump Late Night David Letterman presents Top Ten List tonight</td>\n",
       "      <td>0.175000</td>\n",
       "      <td>0.497222</td>\n",
       "      <td>[sure, tune, watch, Donald, Trump, Late, Night, David, Letterman, presents, Top, Ten, List, tonight]</td>\n",
       "    </tr>\n",
       "    <tr>\n",
       "      <th>1</th>\n",
       "      <td>Donald Trump will be appearing on The View tomorrow morning to discuss Celebrity Apprentice and his new book Think Like A Champion!</td>\n",
       "      <td>33</td>\n",
       "      <td>273</td>\n",
       "      <td>Donald Trump will be appearing on The View tomorrow morning to discuss Celebrity Apprentice and his new book Think Like A Champion</td>\n",
       "      <td>donald trump will be appear on the view tomorrow morn to discuss celebr apprentic and hi new book think like a champion</td>\n",
       "      <td>Donald Trump will be appearing on The View tomorrow morning to discus Celebrity Apprentice and his new book Think Like A Champion</td>\n",
       "      <td>Donald Trump appearing View tomorrow morning discuss Celebrity Apprentice new book Think Like Champion</td>\n",
       "      <td>0.136364</td>\n",
       "      <td>0.454545</td>\n",
       "      <td>[Donald, Trump, appearing, View, tomorrow, morning, discuss, Celebrity, Apprentice, new, book, Think, Like, Champion]</td>\n",
       "    </tr>\n",
       "  </tbody>\n",
       "</table>\n",
       "</div>"
      ],
      "text/plain": [
       "                                                                                                                               content  \\\n",
       "0                Be sure to tune in and watch Donald Trump on Late Night with David Letterman as he presents the Top Ten List tonight!   \n",
       "1  Donald Trump will be appearing on The View tomorrow morning to discuss Celebrity Apprentice and his new book Think Like A Champion!   \n",
       "\n",
       "   retweets  favorites  \\\n",
       "0       500        868   \n",
       "1        33        273   \n",
       "\n",
       "                                                                                                                               review  \\\n",
       "0                Be sure to tune in and watch Donald Trump on Late Night with David Letterman as he presents the Top Ten List tonight   \n",
       "1  Donald Trump will be appearing on The View tomorrow morning to discuss Celebrity Apprentice and his new book Think Like A Champion   \n",
       "\n",
       "                                                                                                               stem_review  \\\n",
       "0      be sure to tune in and watch donald trump on late night with david letterman as he present the top ten list tonight   \n",
       "1  donald trump will be appear on the view tomorrow morn to discuss celebr apprentic and hi new book think like a champion   \n",
       "\n",
       "                                                                                                                    lemmatize_review  \\\n",
       "0                 Be sure to tune in and watch Donald Trump on Late Night with David Letterman a he present the Top Ten List tonight   \n",
       "1  Donald Trump will be appearing on The View tomorrow morning to discus Celebrity Apprentice and his new book Think Like A Champion   \n",
       "\n",
       "                                                                                             final_review  \\\n",
       "0                   sure tune watch Donald Trump Late Night David Letterman presents Top Ten List tonight   \n",
       "1  Donald Trump appearing View tomorrow morning discuss Celebrity Apprentice new book Think Like Champion   \n",
       "\n",
       "   polarity  subjectivity  \\\n",
       "0  0.175000      0.497222   \n",
       "1  0.136364      0.454545   \n",
       "\n",
       "                                                                                                                tokenize  \n",
       "0                   [sure, tune, watch, Donald, Trump, Late, Night, David, Letterman, presents, Top, Ten, List, tonight]  \n",
       "1  [Donald, Trump, appearing, View, tomorrow, morning, discuss, Celebrity, Apprentice, new, book, Think, Like, Champion]  "
      ]
     },
     "execution_count": 81,
     "metadata": {},
     "output_type": "execute_result"
    }
   ],
   "source": [
    "tok = lambda x:word_tokenize(x)\n",
    "df['tokenize'] = df['final_review'].apply(tok)\n",
    "df.head(2)"
   ]
  },
  {
   "cell_type": "code",
   "execution_count": null,
   "metadata": {
    "id": "vHQsHfm-YKkX"
   },
   "outputs": [],
   "source": [
    "import itertools,collections\n",
    "\n",
    "new_tokenize = df['tokenize']\n",
    "all_words = list(itertools.chain(*new_tokenize))"
   ]
  },
  {
   "cell_type": "code",
   "execution_count": null,
   "metadata": {
    "id": "jP8EafQmYKkX",
    "outputId": "336ee3e2-fbce-489a-d4c5-cc4188e50dac"
   },
   "outputs": [
    {
     "data": {
      "text/html": [
       "<div>\n",
       "<style scoped>\n",
       "    .dataframe tbody tr th:only-of-type {\n",
       "        vertical-align: middle;\n",
       "    }\n",
       "\n",
       "    .dataframe tbody tr th {\n",
       "        vertical-align: top;\n",
       "    }\n",
       "\n",
       "    .dataframe thead th {\n",
       "        text-align: right;\n",
       "    }\n",
       "</style>\n",
       "<table border=\"1\" class=\"dataframe\">\n",
       "  <thead>\n",
       "    <tr style=\"text-align: right;\">\n",
       "      <th></th>\n",
       "      <th>words</th>\n",
       "      <th>count</th>\n",
       "    </tr>\n",
       "  </thead>\n",
       "  <tbody>\n",
       "    <tr>\n",
       "      <th>0</th>\n",
       "      <td>great</td>\n",
       "      <td>2889</td>\n",
       "    </tr>\n",
       "    <tr>\n",
       "      <th>1</th>\n",
       "      <td>http</td>\n",
       "      <td>2704</td>\n",
       "    </tr>\n",
       "    <tr>\n",
       "      <th>2</th>\n",
       "      <td>Trump</td>\n",
       "      <td>1987</td>\n",
       "    </tr>\n",
       "    <tr>\n",
       "      <th>3</th>\n",
       "      <td>people</td>\n",
       "      <td>1778</td>\n",
       "    </tr>\n",
       "    <tr>\n",
       "      <th>4</th>\n",
       "      <td>Thank</td>\n",
       "      <td>1738</td>\n",
       "    </tr>\n",
       "  </tbody>\n",
       "</table>\n",
       "</div>"
      ],
      "text/plain": [
       "    words  count\n",
       "0   great   2889\n",
       "1    http   2704\n",
       "2   Trump   1987\n",
       "3  people   1778\n",
       "4   Thank   1738"
      ]
     },
     "execution_count": 83,
     "metadata": {},
     "output_type": "execute_result"
    }
   ],
   "source": [
    "counts = collections.Counter(all_words)\n",
    "count_frequency = counts.most_common(200)\n",
    "\n",
    "clean_tweets = pd.DataFrame(counts.most_common(200),columns=['words', 'count'])\n",
    "clean_tweets.head()"
   ]
  },
  {
   "cell_type": "code",
   "execution_count": null,
   "metadata": {
    "id": "m42yDbziYKkX",
    "outputId": "91385649-01f1-4228-b4df-2e0faa11808a"
   },
   "outputs": [
    {
     "name": "stdout",
     "output_type": "stream",
     "text": [
      "No of most common words to plot: 20\n"
     ]
    },
    {
     "data": {
      "image/png": "[encoded data removed]",
      "text/plain": [
       "<Figure size 576x576 with 1 Axes>"
      ]
     },
     "metadata": {
      "needs_background": "light"
     },
     "output_type": "display_data"
    }
   ],
   "source": [
    "Number = input('No of most common words to plot: ')\n",
    "fig, ax = plt.subplots(figsize=(8, 8))\n",
    "clean_tweets[:25].sort_values(by='count').plot.barh(x='words',y='count',ax=ax,color='maroon')\n",
    "ax.set_title(\"Common Words Found in Tweets (Including All Words)\")\n",
    "plt.show()"
   ]
  },
  {
   "cell_type": "markdown",
   "metadata": {
    "id": "uSFCOMblYKkY"
   },
   "source": [
    "Using sentiment.polarity_score function, Find the polarity score of all the tweets and categorize them as Positive, Negative or Neutral."
   ]
  },
  {
   "cell_type": "code",
   "execution_count": null,
   "metadata": {
    "id": "zpZudQOeYKkY",
    "outputId": "0ad2a107-0ef3-42a2-c81c-3cc4927d492a"
   },
   "outputs": [
    {
     "data": {
      "text/html": [
       "<div>\n",
       "<style scoped>\n",
       "    .dataframe tbody tr th:only-of-type {\n",
       "        vertical-align: middle;\n",
       "    }\n",
       "\n",
       "    .dataframe tbody tr th {\n",
       "        vertical-align: top;\n",
       "    }\n",
       "\n",
       "    .dataframe thead th {\n",
       "        text-align: right;\n",
       "    }\n",
       "</style>\n",
       "<table border=\"1\" class=\"dataframe\">\n",
       "  <thead>\n",
       "    <tr style=\"text-align: right;\">\n",
       "      <th></th>\n",
       "      <th>text</th>\n",
       "      <th>polarity</th>\n",
       "    </tr>\n",
       "  </thead>\n",
       "  <tbody>\n",
       "    <tr>\n",
       "      <th>0</th>\n",
       "      <td>sure tune watch Donald Trump Late Night David Letterman presents Top Ten List tonight</td>\n",
       "      <td>Positive</td>\n",
       "    </tr>\n",
       "    <tr>\n",
       "      <th>1</th>\n",
       "      <td>Donald Trump appearing View tomorrow morning discuss Celebrity Apprentice new book Think Like Champion</td>\n",
       "      <td>Positive</td>\n",
       "    </tr>\n",
       "    <tr>\n",
       "      <th>2</th>\n",
       "      <td>Donald Trump reads Top Ten Financial Tips Late Show David Letterman</td>\n",
       "      <td>Positive</td>\n",
       "    </tr>\n",
       "    <tr>\n",
       "      <th>3</th>\n",
       "      <td>New Blog Post</td>\n",
       "      <td>Positive</td>\n",
       "    </tr>\n",
       "    <tr>\n",
       "      <th>4</th>\n",
       "      <td>persona never wallflower Id rather build walls cling Donald J Trump</td>\n",
       "      <td>Neutral</td>\n",
       "    </tr>\n",
       "  </tbody>\n",
       "</table>\n",
       "</div>"
      ],
      "text/plain": [
       "                                                                                                     text  \\\n",
       "0                   sure tune watch Donald Trump Late Night David Letterman presents Top Ten List tonight   \n",
       "1  Donald Trump appearing View tomorrow morning discuss Celebrity Apprentice new book Think Like Champion   \n",
       "2                                     Donald Trump reads Top Ten Financial Tips Late Show David Letterman   \n",
       "3                                                                                           New Blog Post   \n",
       "4                                     persona never wallflower Id rather build walls cling Donald J Trump   \n",
       "\n",
       "   polarity  \n",
       "0  Positive  \n",
       "1  Positive  \n",
       "2  Positive  \n",
       "3  Positive  \n",
       "4   Neutral  "
      ]
     },
     "execution_count": 88,
     "metadata": {},
     "output_type": "execute_result"
    }
   ],
   "source": [
    "PNN = df['polarity'].apply(lambda x: \"Positive\" if x>=0.05 else (\"Negative\" if x<= -0.05 else \"Neutral\"))\n",
    "new_review = df['final_review']\n",
    "new_review = new_review.tolist()\n",
    "PNN = PNN.tolist()\n",
    "\n",
    "dict = {'text':new_review, 'polarity':PNN}\n",
    "pnn = pd.DataFrame(dict)\n",
    "pnn.head()"
   ]
  },
  {
   "cell_type": "markdown",
   "metadata": {
    "id": "xHk2B1-KYKkZ"
   },
   "source": [
    "### Word Cloud"
   ]
  },
  {
   "cell_type": "markdown",
   "metadata": {
    "id": "_RoJR9wQYKkZ"
   },
   "source": [
    "Using wordcloud or other visualization techniques, Find the most common words used positive and negative tweets"
   ]
  },
  {
   "cell_type": "code",
   "execution_count": null,
   "metadata": {
    "id": "YJms5_u1YKkZ",
    "outputId": "32a42284-a7d2-4161-d617-6b14444e1ed1"
   },
   "outputs": [
    {
     "data": {
      "image/png": "[encoded data removed]",
      "text/plain": [
       "<Figure size 360x360 with 1 Axes>"
      ]
     },
     "metadata": {
      "needs_background": "light"
     },
     "output_type": "display_data"
    }
   ],
   "source": [
    "plt.figure(figsize=(5,5))\n",
    "positive_text=norm_train_reviews[1]\n",
    "WC=WordCloud(width=1000,height=500,max_words=500,min_font_size=5)\n",
    "positive_words=WC.generate(positive_text)\n",
    "plt.imshow(positive_words,interpolation='bilinear')\n",
    "plt.show()"
   ]
  },
  {
   "cell_type": "code",
   "execution_count": null,
   "metadata": {
    "id": "vuMwR2txYKka",
    "outputId": "8ca26736-63c7-4ebc-a97d-0229dec03f35"
   },
   "outputs": [
    {
     "data": {
      "image/png": "[encoded data removed]",
      "text/plain": [
       "<Figure size 360x360 with 1 Axes>"
      ]
     },
     "metadata": {
      "needs_background": "light"
     },
     "output_type": "display_data"
    }
   ],
   "source": [
    "plt.figure(figsize=(5,5))\n",
    "negative_text=norm_train_reviews[8]\n",
    "WC=WordCloud(width=1000,height=500,max_words=500,min_font_size=5)\n",
    "negative_words=WC.generate(negative_text)\n",
    "plt.imshow(negative_words,interpolation='bilinear')\n",
    "plt.show()"
   ]
  },
  {
   "cell_type": "markdown",
   "metadata": {
    "id": "Ohv3SZ7oYKkb"
   },
   "source": [
    "### Converting the numerical data to categorical - Positive and Negative"
   ]
  },
  {
   "cell_type": "markdown",
   "metadata": {
    "id": "Xx7dMHuPYKkb"
   },
   "source": [
    "Based on the polarity scores of every tweet, plot the mean positivity / negativity scores with respect to year."
   ]
  },
  {
   "cell_type": "code",
   "execution_count": null,
   "metadata": {
    "id": "Nvt2tzMVYKkb"
   },
   "outputs": [],
   "source": [
    "df['PN'] = df['polarity'].apply(lambda x: \"Positive\" if x>=0 else \"Negative\")"
   ]
  },
  {
   "cell_type": "code",
   "execution_count": null,
   "metadata": {
    "id": "NXYw4imrYKkb",
    "outputId": "7d9d8d91-42dc-40c5-d659-a6b35cd99a3e"
   },
   "outputs": [
    {
     "data": {
      "text/html": [
       "<div>\n",
       "<style scoped>\n",
       "    .dataframe tbody tr th:only-of-type {\n",
       "        vertical-align: middle;\n",
       "    }\n",
       "\n",
       "    .dataframe tbody tr th {\n",
       "        vertical-align: top;\n",
       "    }\n",
       "\n",
       "    .dataframe thead th {\n",
       "        text-align: right;\n",
       "    }\n",
       "</style>\n",
       "<table border=\"1\" class=\"dataframe\">\n",
       "  <thead>\n",
       "    <tr style=\"text-align: right;\">\n",
       "      <th></th>\n",
       "      <th>content</th>\n",
       "      <th>retweets</th>\n",
       "      <th>favorites</th>\n",
       "      <th>review</th>\n",
       "      <th>stem_review</th>\n",
       "      <th>lemmatize_review</th>\n",
       "      <th>final_review</th>\n",
       "      <th>polarity</th>\n",
       "      <th>subjectivity</th>\n",
       "      <th>tokenize</th>\n",
       "      <th>PN</th>\n",
       "    </tr>\n",
       "  </thead>\n",
       "  <tbody>\n",
       "    <tr>\n",
       "      <th>0</th>\n",
       "      <td>Be sure to tune in and watch Donald Trump on Late Night with David Letterman as he presents the Top Ten List tonight!</td>\n",
       "      <td>500</td>\n",
       "      <td>868</td>\n",
       "      <td>Be sure to tune in and watch Donald Trump on Late Night with David Letterman as he presents the Top Ten List tonight</td>\n",
       "      <td>be sure to tune in and watch donald trump on late night with david letterman as he present the top ten list tonight</td>\n",
       "      <td>Be sure to tune in and watch Donald Trump on Late Night with David Letterman a he present the Top Ten List tonight</td>\n",
       "      <td>sure tune watch Donald Trump Late Night David Letterman presents Top Ten List tonight</td>\n",
       "      <td>0.175000</td>\n",
       "      <td>0.497222</td>\n",
       "      <td>[sure, tune, watch, Donald, Trump, Late, Night, David, Letterman, presents, Top, Ten, List, tonight]</td>\n",
       "      <td>Positive</td>\n",
       "    </tr>\n",
       "    <tr>\n",
       "      <th>1</th>\n",
       "      <td>Donald Trump will be appearing on The View tomorrow morning to discuss Celebrity Apprentice and his new book Think Like A Champion!</td>\n",
       "      <td>33</td>\n",
       "      <td>273</td>\n",
       "      <td>Donald Trump will be appearing on The View tomorrow morning to discuss Celebrity Apprentice and his new book Think Like A Champion</td>\n",
       "      <td>donald trump will be appear on the view tomorrow morn to discuss celebr apprentic and hi new book think like a champion</td>\n",
       "      <td>Donald Trump will be appearing on The View tomorrow morning to discus Celebrity Apprentice and his new book Think Like A Champion</td>\n",
       "      <td>Donald Trump appearing View tomorrow morning discuss Celebrity Apprentice new book Think Like Champion</td>\n",
       "      <td>0.136364</td>\n",
       "      <td>0.454545</td>\n",
       "      <td>[Donald, Trump, appearing, View, tomorrow, morning, discuss, Celebrity, Apprentice, new, book, Think, Like, Champion]</td>\n",
       "      <td>Positive</td>\n",
       "    </tr>\n",
       "  </tbody>\n",
       "</table>\n",
       "</div>"
      ],
      "text/plain": [
       "                                                                                                                               content  \\\n",
       "0                Be sure to tune in and watch Donald Trump on Late Night with David Letterman as he presents the Top Ten List tonight!   \n",
       "1  Donald Trump will be appearing on The View tomorrow morning to discuss Celebrity Apprentice and his new book Think Like A Champion!   \n",
       "\n",
       "   retweets  favorites  \\\n",
       "0       500        868   \n",
       "1        33        273   \n",
       "\n",
       "                                                                                                                               review  \\\n",
       "0                Be sure to tune in and watch Donald Trump on Late Night with David Letterman as he presents the Top Ten List tonight   \n",
       "1  Donald Trump will be appearing on The View tomorrow morning to discuss Celebrity Apprentice and his new book Think Like A Champion   \n",
       "\n",
       "                                                                                                               stem_review  \\\n",
       "0      be sure to tune in and watch donald trump on late night with david letterman as he present the top ten list tonight   \n",
       "1  donald trump will be appear on the view tomorrow morn to discuss celebr apprentic and hi new book think like a champion   \n",
       "\n",
       "                                                                                                                    lemmatize_review  \\\n",
       "0                 Be sure to tune in and watch Donald Trump on Late Night with David Letterman a he present the Top Ten List tonight   \n",
       "1  Donald Trump will be appearing on The View tomorrow morning to discus Celebrity Apprentice and his new book Think Like A Champion   \n",
       "\n",
       "                                                                                             final_review  \\\n",
       "0                   sure tune watch Donald Trump Late Night David Letterman presents Top Ten List tonight   \n",
       "1  Donald Trump appearing View tomorrow morning discuss Celebrity Apprentice new book Think Like Champion   \n",
       "\n",
       "   polarity  subjectivity  \\\n",
       "0  0.175000      0.497222   \n",
       "1  0.136364      0.454545   \n",
       "\n",
       "                                                                                                                tokenize  \\\n",
       "0                   [sure, tune, watch, Donald, Trump, Late, Night, David, Letterman, presents, Top, Ten, List, tonight]   \n",
       "1  [Donald, Trump, appearing, View, tomorrow, morning, discuss, Celebrity, Apprentice, new, book, Think, Like, Champion]   \n",
       "\n",
       "         PN  \n",
       "0  Positive  \n",
       "1  Positive  "
      ]
     },
     "execution_count": 92,
     "metadata": {},
     "output_type": "execute_result"
    }
   ],
   "source": [
    "df.head(2)"
   ]
  },
  {
   "cell_type": "markdown",
   "metadata": {
    "id": "MBV53ZmDYKkc"
   },
   "source": [
    "### Label Binarizer"
   ]
  },
  {
   "cell_type": "code",
   "execution_count": null,
   "metadata": {
    "id": "mkVbUNPMYKkc"
   },
   "outputs": [],
   "source": [
    "lb = LabelBinarizer()\n",
    "df['label'] = lb.fit_transform(df['PN'])"
   ]
  },
  {
   "cell_type": "code",
   "execution_count": null,
   "metadata": {
    "id": "KsvDd4mFYKkc",
    "outputId": "4d96f14f-5584-40f2-8627-a2e7a2b2277d"
   },
   "outputs": [
    {
     "data": {
      "text/html": [
       "<div>\n",
       "<style scoped>\n",
       "    .dataframe tbody tr th:only-of-type {\n",
       "        vertical-align: middle;\n",
       "    }\n",
       "\n",
       "    .dataframe tbody tr th {\n",
       "        vertical-align: top;\n",
       "    }\n",
       "\n",
       "    .dataframe thead th {\n",
       "        text-align: right;\n",
       "    }\n",
       "</style>\n",
       "<table border=\"1\" class=\"dataframe\">\n",
       "  <thead>\n",
       "    <tr style=\"text-align: right;\">\n",
       "      <th></th>\n",
       "      <th>content</th>\n",
       "      <th>retweets</th>\n",
       "      <th>favorites</th>\n",
       "      <th>review</th>\n",
       "      <th>stem_review</th>\n",
       "      <th>lemmatize_review</th>\n",
       "      <th>final_review</th>\n",
       "      <th>polarity</th>\n",
       "      <th>subjectivity</th>\n",
       "      <th>tokenize</th>\n",
       "      <th>PN</th>\n",
       "      <th>label</th>\n",
       "    </tr>\n",
       "  </thead>\n",
       "  <tbody>\n",
       "    <tr>\n",
       "      <th>0</th>\n",
       "      <td>Be sure to tune in and watch Donald Trump on Late Night with David Letterman as he presents the Top Ten List tonight!</td>\n",
       "      <td>500</td>\n",
       "      <td>868</td>\n",
       "      <td>Be sure to tune in and watch Donald Trump on Late Night with David Letterman as he presents the Top Ten List tonight</td>\n",
       "      <td>be sure to tune in and watch donald trump on late night with david letterman as he present the top ten list tonight</td>\n",
       "      <td>Be sure to tune in and watch Donald Trump on Late Night with David Letterman a he present the Top Ten List tonight</td>\n",
       "      <td>sure tune watch Donald Trump Late Night David Letterman presents Top Ten List tonight</td>\n",
       "      <td>0.175000</td>\n",
       "      <td>0.497222</td>\n",
       "      <td>[sure, tune, watch, Donald, Trump, Late, Night, David, Letterman, presents, Top, Ten, List, tonight]</td>\n",
       "      <td>Positive</td>\n",
       "      <td>1</td>\n",
       "    </tr>\n",
       "    <tr>\n",
       "      <th>1</th>\n",
       "      <td>Donald Trump will be appearing on The View tomorrow morning to discuss Celebrity Apprentice and his new book Think Like A Champion!</td>\n",
       "      <td>33</td>\n",
       "      <td>273</td>\n",
       "      <td>Donald Trump will be appearing on The View tomorrow morning to discuss Celebrity Apprentice and his new book Think Like A Champion</td>\n",
       "      <td>donald trump will be appear on the view tomorrow morn to discuss celebr apprentic and hi new book think like a champion</td>\n",
       "      <td>Donald Trump will be appearing on The View tomorrow morning to discus Celebrity Apprentice and his new book Think Like A Champion</td>\n",
       "      <td>Donald Trump appearing View tomorrow morning discuss Celebrity Apprentice new book Think Like Champion</td>\n",
       "      <td>0.136364</td>\n",
       "      <td>0.454545</td>\n",
       "      <td>[Donald, Trump, appearing, View, tomorrow, morning, discuss, Celebrity, Apprentice, new, book, Think, Like, Champion]</td>\n",
       "      <td>Positive</td>\n",
       "      <td>1</td>\n",
       "    </tr>\n",
       "  </tbody>\n",
       "</table>\n",
       "</div>"
      ],
      "text/plain": [
       "                                                                                                                               content  \\\n",
       "0                Be sure to tune in and watch Donald Trump on Late Night with David Letterman as he presents the Top Ten List tonight!   \n",
       "1  Donald Trump will be appearing on The View tomorrow morning to discuss Celebrity Apprentice and his new book Think Like A Champion!   \n",
       "\n",
       "   retweets  favorites  \\\n",
       "0       500        868   \n",
       "1        33        273   \n",
       "\n",
       "                                                                                                                               review  \\\n",
       "0                Be sure to tune in and watch Donald Trump on Late Night with David Letterman as he presents the Top Ten List tonight   \n",
       "1  Donald Trump will be appearing on The View tomorrow morning to discuss Celebrity Apprentice and his new book Think Like A Champion   \n",
       "\n",
       "                                                                                                               stem_review  \\\n",
       "0      be sure to tune in and watch donald trump on late night with david letterman as he present the top ten list tonight   \n",
       "1  donald trump will be appear on the view tomorrow morn to discuss celebr apprentic and hi new book think like a champion   \n",
       "\n",
       "                                                                                                                    lemmatize_review  \\\n",
       "0                 Be sure to tune in and watch Donald Trump on Late Night with David Letterman a he present the Top Ten List tonight   \n",
       "1  Donald Trump will be appearing on The View tomorrow morning to discus Celebrity Apprentice and his new book Think Like A Champion   \n",
       "\n",
       "                                                                                             final_review  \\\n",
       "0                   sure tune watch Donald Trump Late Night David Letterman presents Top Ten List tonight   \n",
       "1  Donald Trump appearing View tomorrow morning discuss Celebrity Apprentice new book Think Like Champion   \n",
       "\n",
       "   polarity  subjectivity  \\\n",
       "0  0.175000      0.497222   \n",
       "1  0.136364      0.454545   \n",
       "\n",
       "                                                                                                                tokenize  \\\n",
       "0                   [sure, tune, watch, Donald, Trump, Late, Night, David, Letterman, presents, Top, Ten, List, tonight]   \n",
       "1  [Donald, Trump, appearing, View, tomorrow, morning, discuss, Celebrity, Apprentice, new, book, Think, Like, Champion]   \n",
       "\n",
       "         PN  label  \n",
       "0  Positive      1  \n",
       "1  Positive      1  "
      ]
     },
     "execution_count": 94,
     "metadata": {},
     "output_type": "execute_result"
    }
   ],
   "source": [
    "df.head(2)"
   ]
  },
  {
   "cell_type": "markdown",
   "metadata": {
    "id": "tq9kttZIYKkd"
   },
   "source": [
    "### Data into train and test data"
   ]
  },
  {
   "cell_type": "markdown",
   "metadata": {
    "id": "FjsyYs5nYKkd"
   },
   "source": [
    "Split the dataset into train / test set and perform feature engineering to get the top features (or create new features, if required)"
   ]
  },
  {
   "cell_type": "markdown",
   "metadata": {
    "id": "wV8VxYBXYKkd"
   },
   "source": [
    "**Here, we don't need any feature engineering because we are concerned only with the output that is polarity.** <br>\n",
    "**The required attributes are formed earlier through out the cleaning process.**<br>\n",
    "**Required graphs are also plotted.**<br>"
   ]
  },
  {
   "cell_type": "code",
   "execution_count": null,
   "metadata": {
    "id": "lTSvLm3pYKke"
   },
   "outputs": [],
   "source": [
    "train = df.label[:34000]\n",
    "test = df.label[34000:]"
   ]
  },
  {
   "cell_type": "markdown",
   "metadata": {
    "id": "03eCBSZLYKke"
   },
   "source": [
    "### Modelling the dataset"
   ]
  },
  {
   "cell_type": "code",
   "execution_count": null,
   "metadata": {
    "id": "yT6u4ryNYKkf",
    "outputId": "9d997cf9-397f-4037-abf1-412642b94794"
   },
   "outputs": [
    {
     "name": "stdout",
     "output_type": "stream",
     "text": [
      "LogisticRegression(C=1, max_iter=500, random_state=42)\n",
      "LogisticRegression(C=1, max_iter=500, random_state=42)\n"
     ]
    }
   ],
   "source": [
    "lr = LogisticRegression(penalty='l2',max_iter=500,C=1,random_state=42)\n",
    "lr_bow = lr.fit(cv_train_reviews,train) #From Bag of Words\n",
    "print(lr_bow)\n",
    "\n",
    "lr_tfidf = lr.fit(tv_train_reviews,train) #TFIDF \n",
    "print(lr_tfidf)"
   ]
  },
  {
   "cell_type": "markdown",
   "metadata": {
    "id": "gXN_2vQnYKkf"
   },
   "source": [
    "### Logistic Regression and Model Performance"
   ]
  },
  {
   "cell_type": "code",
   "execution_count": null,
   "metadata": {
    "id": "XEtA563mYKkf",
    "outputId": "05c0110e-8005-476f-b611-24a8a584e802"
   },
   "outputs": [
    {
     "name": "stdout",
     "output_type": "stream",
     "text": [
      "[1 1 1 ... 1 1 1]\n",
      "[1 1 1 ... 1 1 1]\n"
     ]
    }
   ],
   "source": [
    "lr_bow_predict = lr.predict(cv_test_reviews)\n",
    "print(lr_bow_predict)\n",
    "lr_tfidf_predict = lr.predict(tv_test_reviews)\n",
    "print(lr_tfidf_predict)"
   ]
  },
  {
   "cell_type": "code",
   "execution_count": null,
   "metadata": {
    "id": "_I0xF0tDYKkg",
    "outputId": "c4037b58-e687-43ce-a2b1-3745074ec4a7"
   },
   "outputs": [
    {
     "name": "stdout",
     "output_type": "stream",
     "text": [
      "(7122,)\n",
      "(7122,)\n"
     ]
    }
   ],
   "source": [
    "print(lr_bow_predict.shape)\n",
    "print(lr_tfidf_predict.shape)"
   ]
  },
  {
   "cell_type": "code",
   "execution_count": null,
   "metadata": {
    "id": "_RQXGudwYKkg",
    "outputId": "17d13e6b-e99f-47ed-dbb0-9680256fb259"
   },
   "outputs": [
    {
     "data": {
      "text/plain": [
       "array([[0, 0, 0, ..., 0, 0, 0]], dtype=int64)"
      ]
     },
     "execution_count": 55,
     "metadata": {},
     "output_type": "execute_result"
    }
   ],
   "source": [
    "cv_test_reviews[0].toarray()"
   ]
  },
  {
   "cell_type": "code",
   "execution_count": null,
   "metadata": {
    "id": "t9a4mbCqYKkh"
   },
   "outputs": [],
   "source": [
    "content = df['content'][34000:].tolist()"
   ]
  },
  {
   "cell_type": "code",
   "execution_count": null,
   "metadata": {
    "id": "EH0vqMoLYKkh"
   },
   "outputs": [],
   "source": [
    "dict = {'content':content,'test':test, 'bow':lr_bow_predict, 'tfidf': lr_tfidf_predict}\n",
    "df1 = pd.DataFrame(dict)"
   ]
  },
  {
   "cell_type": "code",
   "execution_count": null,
   "metadata": {
    "id": "Dql7NjrIYKkh",
    "outputId": "f06a21bb-cd20-428e-e5d2-f41760d7689b"
   },
   "outputs": [
    {
     "data": {
      "text/html": [
       "<div>\n",
       "<style scoped>\n",
       "    .dataframe tbody tr th:only-of-type {\n",
       "        vertical-align: middle;\n",
       "    }\n",
       "\n",
       "    .dataframe tbody tr th {\n",
       "        vertical-align: top;\n",
       "    }\n",
       "\n",
       "    .dataframe thead th {\n",
       "        text-align: right;\n",
       "    }\n",
       "</style>\n",
       "<table border=\"1\" class=\"dataframe\">\n",
       "  <thead>\n",
       "    <tr style=\"text-align: right;\">\n",
       "      <th></th>\n",
       "      <th>content</th>\n",
       "      <th>test</th>\n",
       "      <th>bow</th>\n",
       "      <th>tfidf</th>\n",
       "    </tr>\n",
       "  </thead>\n",
       "  <tbody>\n",
       "    <tr>\n",
       "      <th>34000</th>\n",
       "      <td>Just heard the Campaign was sued by the Obstructionist Democrats. This can be good news in that we will now counter for the DNC Server that they refused to give to the FBI, the Debbie Wasserman Sc...</td>\n",
       "      <td>1</td>\n",
       "      <td>1</td>\n",
       "      <td>1</td>\n",
       "    </tr>\n",
       "    <tr>\n",
       "      <th>34001</th>\n",
       "      <td>James Comey illegally leaked classified documents to the press in order to generate a Special Council? Therefore, the Special Council was established based on an illegal act? Really, does everybod...</td>\n",
       "      <td>0</td>\n",
       "      <td>1</td>\n",
       "      <td>1</td>\n",
       "    </tr>\n",
       "    <tr>\n",
       "      <th>34002</th>\n",
       "      <td>A message from Kim Jong Un: “North Korea will stop nuclear tests and launches of intercontinental ballistic missiles.” Also will “Shut down a nuclear test site in the country’s Northern Side to pr...</td>\n",
       "      <td>1</td>\n",
       "      <td>1</td>\n",
       "      <td>1</td>\n",
       "    </tr>\n",
       "    <tr>\n",
       "      <th>34003</th>\n",
       "      <td>The New York Times and a third rate reporter named Maggie Haberman, known as a Crooked H flunkie who I don’t speak to and have nothing to do with, are going out of their way to destroy Michael Coh...</td>\n",
       "      <td>0</td>\n",
       "      <td>1</td>\n",
       "      <td>1</td>\n",
       "    </tr>\n",
       "    <tr>\n",
       "      <th>34004</th>\n",
       "      <td>....non-existent “sources” and a drunk/drugged up loser who hates Michael, a fine person with a wonderful family. Michael is a businessman for his own account/lawyer who I have always liked &amp; resp...</td>\n",
       "      <td>1</td>\n",
       "      <td>1</td>\n",
       "      <td>1</td>\n",
       "    </tr>\n",
       "  </tbody>\n",
       "</table>\n",
       "</div>"
      ],
      "text/plain": [
       "                                                                                                                                                                                                       content  \\\n",
       "34000  Just heard the Campaign was sued by the Obstructionist Democrats. This can be good news in that we will now counter for the DNC Server that they refused to give to the FBI, the Debbie Wasserman Sc...   \n",
       "34001  James Comey illegally leaked classified documents to the press in order to generate a Special Council? Therefore, the Special Council was established based on an illegal act? Really, does everybod...   \n",
       "34002  A message from Kim Jong Un: “North Korea will stop nuclear tests and launches of intercontinental ballistic missiles.” Also will “Shut down a nuclear test site in the country’s Northern Side to pr...   \n",
       "34003  The New York Times and a third rate reporter named Maggie Haberman, known as a Crooked H flunkie who I don’t speak to and have nothing to do with, are going out of their way to destroy Michael Coh...   \n",
       "34004  ....non-existent “sources” and a drunk/drugged up loser who hates Michael, a fine person with a wonderful family. Michael is a businessman for his own account/lawyer who I have always liked & resp...   \n",
       "\n",
       "       test  bow  tfidf  \n",
       "34000     1    1      1  \n",
       "34001     0    1      1  \n",
       "34002     1    1      1  \n",
       "34003     0    1      1  \n",
       "34004     1    1      1  "
      ]
     },
     "execution_count": 58,
     "metadata": {},
     "output_type": "execute_result"
    }
   ],
   "source": [
    "df1.head()"
   ]
  },
  {
   "cell_type": "code",
   "execution_count": null,
   "metadata": {
    "id": "HDTjryzGYKki",
    "outputId": "010390e1-0651-47aa-a32c-7945e2d22183"
   },
   "outputs": [
    {
     "data": {
      "text/html": [
       "<div>\n",
       "<style scoped>\n",
       "    .dataframe tbody tr th:only-of-type {\n",
       "        vertical-align: middle;\n",
       "    }\n",
       "\n",
       "    .dataframe tbody tr th {\n",
       "        vertical-align: top;\n",
       "    }\n",
       "\n",
       "    .dataframe thead th {\n",
       "        text-align: right;\n",
       "    }\n",
       "</style>\n",
       "<table border=\"1\" class=\"dataframe\">\n",
       "  <thead>\n",
       "    <tr style=\"text-align: right;\">\n",
       "      <th></th>\n",
       "      <th>content</th>\n",
       "      <th>test</th>\n",
       "      <th>bow</th>\n",
       "      <th>tfidf</th>\n",
       "    </tr>\n",
       "  </thead>\n",
       "  <tbody>\n",
       "    <tr>\n",
       "      <th>34001</th>\n",
       "      <td>James Comey illegally leaked classified documents to the press in order to generate a Special Council? Therefore, the Special Council was established based on an illegal act? Really, does everybod...</td>\n",
       "      <td>0</td>\n",
       "      <td>1</td>\n",
       "      <td>1</td>\n",
       "    </tr>\n",
       "    <tr>\n",
       "      <th>34003</th>\n",
       "      <td>The New York Times and a third rate reporter named Maggie Haberman, known as a Crooked H flunkie who I don’t speak to and have nothing to do with, are going out of their way to destroy Michael Coh...</td>\n",
       "      <td>0</td>\n",
       "      <td>1</td>\n",
       "      <td>1</td>\n",
       "    </tr>\n",
       "    <tr>\n",
       "      <th>34005</th>\n",
       "      <td>....it means lying or making up stories. Sorry, I don’t see Michael doing that despite the horrible Witch Hunt and the dishonest media!</td>\n",
       "      <td>0</td>\n",
       "      <td>1</td>\n",
       "      <td>1</td>\n",
       "    </tr>\n",
       "    <tr>\n",
       "      <th>34013</th>\n",
       "      <td>The Washington Post said I refer to Jeff Sessions as “Mr. Magoo” and Rod Rosenstein as “Mr. Peepers.” This is “according to people with whom the president has spoken.” There are no such people and...</td>\n",
       "      <td>0</td>\n",
       "      <td>1</td>\n",
       "      <td>1</td>\n",
       "    </tr>\n",
       "    <tr>\n",
       "      <th>34014</th>\n",
       "      <td>“At least two Memos Comey shared with a friend contained Classified Information.” Wall Street Journal</td>\n",
       "      <td>0</td>\n",
       "      <td>1</td>\n",
       "      <td>1</td>\n",
       "    </tr>\n",
       "    <tr>\n",
       "      <th>...</th>\n",
       "      <td>...</td>\n",
       "      <td>...</td>\n",
       "      <td>...</td>\n",
       "      <td>...</td>\n",
       "    </tr>\n",
       "    <tr>\n",
       "      <th>41109</th>\n",
       "      <td>They are taking the Democrat Nomination away from Crazy Bernie, just like last time. Some things never change!</td>\n",
       "      <td>0</td>\n",
       "      <td>1</td>\n",
       "      <td>1</td>\n",
       "    </tr>\n",
       "    <tr>\n",
       "      <th>41111</th>\n",
       "      <td>A massive 200 Billion Dollar Sea Wall, built around New York to protect it from rare storms, is a costly, foolish &amp; environmentally unfriendly idea that, when needed, probably won’t work anyway. I...</td>\n",
       "      <td>0</td>\n",
       "      <td>1</td>\n",
       "      <td>1</td>\n",
       "    </tr>\n",
       "    <tr>\n",
       "      <th>41113</th>\n",
       "      <td>If you listened to the flawed advice of @ paulkrugman at the @ nytimes, a newspaper that was going broke until I came along, you would have entirely missed the RECORD BREAKING Stock Market (and ot...</td>\n",
       "      <td>0</td>\n",
       "      <td>1</td>\n",
       "      <td>1</td>\n",
       "    </tr>\n",
       "    <tr>\n",
       "      <th>41118</th>\n",
       "      <td>Now Mini Mike Bloomberg is critical of Jack Wilson, who saved perhaps hundreds of people in a Church because he was carrying a gun, and knew how to use it. Jack quickly killed the shooter, who was...</td>\n",
       "      <td>0</td>\n",
       "      <td>1</td>\n",
       "      <td>1</td>\n",
       "    </tr>\n",
       "    <tr>\n",
       "      <th>41120</th>\n",
       "      <td>“In the House, the President got less due process than the 9-11 terrorists got. This is a corrupt process?” Mark Levin @ marklevinshow “Very much so!” @ RepDougCollins @ FoxNews</td>\n",
       "      <td>0</td>\n",
       "      <td>1</td>\n",
       "      <td>1</td>\n",
       "    </tr>\n",
       "  </tbody>\n",
       "</table>\n",
       "<p>1608 rows × 4 columns</p>\n",
       "</div>"
      ],
      "text/plain": [
       "                                                                                                                                                                                                       content  \\\n",
       "34001  James Comey illegally leaked classified documents to the press in order to generate a Special Council? Therefore, the Special Council was established based on an illegal act? Really, does everybod...   \n",
       "34003  The New York Times and a third rate reporter named Maggie Haberman, known as a Crooked H flunkie who I don’t speak to and have nothing to do with, are going out of their way to destroy Michael Coh...   \n",
       "34005                                                                  ....it means lying or making up stories. Sorry, I don’t see Michael doing that despite the horrible Witch Hunt and the dishonest media!   \n",
       "34013  The Washington Post said I refer to Jeff Sessions as “Mr. Magoo” and Rod Rosenstein as “Mr. Peepers.” This is “according to people with whom the president has spoken.” There are no such people and...   \n",
       "34014                                                                                                    “At least two Memos Comey shared with a friend contained Classified Information.” Wall Street Journal   \n",
       "...                                                                                                                                                                                                        ...   \n",
       "41109                                                                                           They are taking the Democrat Nomination away from Crazy Bernie, just like last time. Some things never change!   \n",
       "41111  A massive 200 Billion Dollar Sea Wall, built around New York to protect it from rare storms, is a costly, foolish & environmentally unfriendly idea that, when needed, probably won’t work anyway. I...   \n",
       "41113  If you listened to the flawed advice of @ paulkrugman at the @ nytimes, a newspaper that was going broke until I came along, you would have entirely missed the RECORD BREAKING Stock Market (and ot...   \n",
       "41118  Now Mini Mike Bloomberg is critical of Jack Wilson, who saved perhaps hundreds of people in a Church because he was carrying a gun, and knew how to use it. Jack quickly killed the shooter, who was...   \n",
       "41120                        “In the House, the President got less due process than the 9-11 terrorists got. This is a corrupt process?” Mark Levin @ marklevinshow “Very much so!” @ RepDougCollins @ FoxNews   \n",
       "\n",
       "       test  bow  tfidf  \n",
       "34001     0    1      1  \n",
       "34003     0    1      1  \n",
       "34005     0    1      1  \n",
       "34013     0    1      1  \n",
       "34014     0    1      1  \n",
       "...     ...  ...    ...  \n",
       "41109     0    1      1  \n",
       "41111     0    1      1  \n",
       "41113     0    1      1  \n",
       "41118     0    1      1  \n",
       "41120     0    1      1  \n",
       "\n",
       "[1608 rows x 4 columns]"
      ]
     },
     "execution_count": 59,
     "metadata": {},
     "output_type": "execute_result"
    }
   ],
   "source": [
    "df1[df1['test']!=df1['bow']]"
   ]
  },
  {
   "cell_type": "markdown",
   "metadata": {
    "id": "fmmrxfSlYKki"
   },
   "source": [
    "### Accuracy score"
   ]
  },
  {
   "cell_type": "code",
   "execution_count": null,
   "metadata": {
    "id": "UQHggXoIYKki",
    "outputId": "cdb373ae-c2ed-4b12-df2f-e949dcd1f410"
   },
   "outputs": [
    {
     "name": "stdout",
     "output_type": "stream",
     "text": [
      "0.7742207245155855\n",
      "0.7742207245155855\n"
     ]
    }
   ],
   "source": [
    "lr_bow_score = accuracy_score(test,lr_bow_predict)\n",
    "print(lr_bow_score)\n",
    "lr_tfidf_score = accuracy_score(test,lr_tfidf_predict)\n",
    "print(lr_tfidf_score)"
   ]
  },
  {
   "cell_type": "code",
   "execution_count": null,
   "metadata": {
    "id": "6kqypf8ZYKkj",
    "outputId": "e73a5ac6-c5d8-4f8f-e458-7ab64f94ec74"
   },
   "outputs": [
    {
     "name": "stdout",
     "output_type": "stream",
     "text": [
      "              precision    recall  f1-score   support\n",
      "\n",
      "    Negative       0.00      0.00      0.00      1608\n",
      "    Positive       0.77      1.00      0.87      5514\n",
      "\n",
      "    accuracy                           0.77      7122\n",
      "   macro avg       0.39      0.50      0.44      7122\n",
      "weighted avg       0.60      0.77      0.68      7122\n",
      "\n",
      "              precision    recall  f1-score   support\n",
      "\n",
      "    Negative       0.00      0.00      0.00      1608\n",
      "    Positive       0.77      1.00      0.87      5514\n",
      "\n",
      "    accuracy                           0.77      7122\n",
      "   macro avg       0.39      0.50      0.44      7122\n",
      "weighted avg       0.60      0.77      0.68      7122\n",
      "\n"
     ]
    }
   ],
   "source": [
    "lr_bow_report=classification_report(test,lr_bow_predict,target_names=['Negative','Positive'])\n",
    "print(lr_bow_report)\n",
    "lr_tfidf_report = classification_report(test,lr_tfidf_predict,target_names=['Negative','Positive'])\n",
    "print(lr_tfidf_report)"
   ]
  },
  {
   "cell_type": "markdown",
   "metadata": {
    "id": "bMmL0cu3YKkj"
   },
   "source": [
    "### Confusion matrix"
   ]
  },
  {
   "cell_type": "code",
   "execution_count": null,
   "metadata": {
    "id": "MPOc_jZeYKkj",
    "outputId": "9b0efb02-6972-4f68-e209-007ea930f4c8"
   },
   "outputs": [
    {
     "name": "stdout",
     "output_type": "stream",
     "text": [
      "[[   0 1608]\n",
      " [   0 5514]]\n",
      "[[   0 1608]\n",
      " [   0 5514]]\n"
     ]
    }
   ],
   "source": [
    "cm_bow = confusion_matrix(test,lr_bow_predict,labels=[0,1])\n",
    "print(cm_bow)\n",
    "cm_tfidf = confusion_matrix(test,lr_tfidf_predict,labels=[0,1])\n",
    "print(cm_tfidf)"
   ]
  },
  {
   "cell_type": "markdown",
   "metadata": {
    "id": "N-06m6edYKkk"
   },
   "source": [
    "# Support Vector Machines"
   ]
  },
  {
   "cell_type": "code",
   "execution_count": null,
   "metadata": {
    "id": "3hjLf_MgYKkk",
    "outputId": "3041eb22-b574-49f9-a7b9-afcae338ba93"
   },
   "outputs": [
    {
     "name": "stdout",
     "output_type": "stream",
     "text": [
      "LogisticRegression(C=1, max_iter=500, random_state=42)\n",
      "LogisticRegression(C=1, max_iter=500, random_state=42)\n"
     ]
    }
   ],
   "source": [
    "lr = LogisticRegression(penalty='l2',max_iter=500,C=1,random_state=42)\n",
    "lr_bow = lr.fit(cv_train_reviews,train) #From Bag of Words\n",
    "print(lr_bow)\n",
    "\n",
    "lr_tfidf = lr.fit(tv_train_reviews,train) #TFIDF \n",
    "print(lr_tfidf)"
   ]
  },
  {
   "cell_type": "markdown",
   "metadata": {
    "id": "TyVSA_8GYKkl"
   },
   "source": [
    "### Linear support vector machines for bag of words and tfidf features"
   ]
  },
  {
   "cell_type": "code",
   "execution_count": null,
   "metadata": {
    "id": "_anEOqFLYKkl",
    "outputId": "b1d153e1-4b3d-4251-9002-27358881567b"
   },
   "outputs": [
    {
     "name": "stdout",
     "output_type": "stream",
     "text": [
      "SVC(kernel='linear', random_state=0)\n",
      "SVC(kernel='linear', random_state=0)\n"
     ]
    }
   ],
   "source": [
    "from sklearn import svm\n",
    "svm = svm.SVC(kernel = 'linear', random_state = 0, C=1.0)\n",
    "svm_bow = svm.fit(cv_train_reviews,train)\n",
    "print(svm_bow)\n",
    "svm_tfidf = svm.fit(tv_train_reviews,train)\n",
    "print(svm_tfidf)"
   ]
  },
  {
   "cell_type": "markdown",
   "metadata": {
    "id": "E2pp_gkcYKkl"
   },
   "source": [
    "### Model building and evaluation"
   ]
  },
  {
   "cell_type": "code",
   "execution_count": null,
   "metadata": {
    "id": "ZKGRX4HuYKkm",
    "outputId": "d7500939-3b99-4ed5-ee42-9cb33ac5d30c"
   },
   "outputs": [
    {
     "name": "stdout",
     "output_type": "stream",
     "text": [
      "[1 1 1 ... 1 1 1]\n",
      "[1 1 1 ... 1 1 1]\n"
     ]
    }
   ],
   "source": [
    "svm_bow_predict = svm.predict(cv_test_reviews)\n",
    "print(svm_bow_predict)\n",
    "svm_tfidf_predict = svm.predict(tv_test_reviews)\n",
    "print(svm_tfidf_predict)"
   ]
  },
  {
   "cell_type": "markdown",
   "metadata": {
    "id": "9v7tgtAIYKkm"
   },
   "source": [
    "### Accuracy Score"
   ]
  },
  {
   "cell_type": "code",
   "execution_count": null,
   "metadata": {
    "id": "fC_68e04YKkn",
    "outputId": "9b329926-9ad4-4b97-cc9c-264b8df39d6a"
   },
   "outputs": [
    {
     "name": "stdout",
     "output_type": "stream",
     "text": [
      "0.776748104465038\n",
      "0.7742207245155855\n"
     ]
    }
   ],
   "source": [
    "svm_bow_score = accuracy_score(test,svm_bow_predict)\n",
    "print(svm_bow_score)\n",
    "svm_tfidf_score = accuracy_score(test,svm_tfidf_predict)\n",
    "print(svm_tfidf_score)"
   ]
  },
  {
   "cell_type": "markdown",
   "metadata": {
    "id": "kPMwgG5KYKkn"
   },
   "source": [
    "### Classification report"
   ]
  },
  {
   "cell_type": "code",
   "execution_count": null,
   "metadata": {
    "id": "M-vLM2eEYKkn",
    "outputId": "2e9bf046-ea28-4cf1-daad-1074756c9902"
   },
   "outputs": [
    {
     "name": "stdout",
     "output_type": "stream",
     "text": [
      "              precision    recall  f1-score   support\n",
      "\n",
      "    Positive       0.61      0.03      0.06      1608\n",
      "    Negative       0.78      0.99      0.87      5514\n",
      "\n",
      "    accuracy                           0.78      7122\n",
      "   macro avg       0.70      0.51      0.47      7122\n",
      "weighted avg       0.74      0.78      0.69      7122\n",
      "\n",
      "              precision    recall  f1-score   support\n",
      "\n",
      "    Positive       0.00      0.00      0.00      1608\n",
      "    Negative       0.77      1.00      0.87      5514\n",
      "\n",
      "    accuracy                           0.77      7122\n",
      "   macro avg       0.39      0.50      0.44      7122\n",
      "weighted avg       0.60      0.77      0.68      7122\n",
      "\n"
     ]
    }
   ],
   "source": [
    "svm_bow_report = classification_report(test,svm_bow_predict,target_names=['Positive','Negative'])\n",
    "print(svm_bow_report)\n",
    "svm_tfidf_report = classification_report(test,svm_tfidf_predict,target_names=['Positive','Negative'])\n",
    "print(svm_tfidf_report)"
   ]
  },
  {
   "cell_type": "markdown",
   "metadata": {
    "id": "2THeSpXLYKko"
   },
   "source": [
    "### Confusion matrix"
   ]
  },
  {
   "cell_type": "code",
   "execution_count": null,
   "metadata": {
    "id": "vtykg3FrYKko",
    "outputId": "33204550-e2b8-4906-f856-12aab5b771df"
   },
   "outputs": [
    {
     "name": "stdout",
     "output_type": "stream",
     "text": [
      "[[5483   31]\n",
      " [1559   49]]\n",
      "[[5514    0]\n",
      " [1608    0]]\n"
     ]
    }
   ],
   "source": [
    "cm_bow = confusion_matrix(test,svm_bow_predict,labels=[1,0])\n",
    "print(cm_bow)\n",
    "cm_tfidf = confusion_matrix(test,svm_tfidf_predict,labels=[1,0])\n",
    "print(cm_tfidf)"
   ]
  },
  {
   "cell_type": "markdown",
   "metadata": {
    "id": "yaF0nD9CYKko"
   },
   "source": [
    "# KNN"
   ]
  },
  {
   "cell_type": "code",
   "execution_count": null,
   "metadata": {
    "id": "YNchUMxfYKkp"
   },
   "outputs": [],
   "source": [
    "from sklearn.neighbors import KNeighborsClassifier\n",
    "knn = KNeighborsClassifier ()"
   ]
  },
  {
   "cell_type": "code",
   "execution_count": null,
   "metadata": {
    "id": "EoFIgNToYKkp",
    "outputId": "77de5ad5-5a48-43e3-88cb-9fa2a6df6c72"
   },
   "outputs": [
    {
     "name": "stdout",
     "output_type": "stream",
     "text": [
      "KNeighborsClassifier()\n",
      "KNeighborsClassifier()\n"
     ]
    }
   ],
   "source": [
    "knn_bow = knn.fit(cv_train_reviews,train)\n",
    "print(knn_bow)\n",
    "knn_tfidf = knn.fit(tv_train_reviews,train)\n",
    "print(knn_tfidf)"
   ]
  },
  {
   "cell_type": "code",
   "execution_count": null,
   "metadata": {
    "id": "T4nXR9XkYKkq",
    "outputId": "b362e063-434d-4415-bf4c-d868f1d7c334"
   },
   "outputs": [
    {
     "name": "stdout",
     "output_type": "stream",
     "text": [
      "[1 1 1 ... 1 1 1]\n",
      "[1 1 1 ... 1 1 1]\n"
     ]
    }
   ],
   "source": [
    "knn_bow_predict = knn.predict(cv_test_reviews)\n",
    "print(knn_bow_predict)\n",
    "knn_tfidf_predict = knn.predict(tv_test_reviews)\n",
    "print(knn_tfidf_predict)"
   ]
  },
  {
   "cell_type": "code",
   "execution_count": null,
   "metadata": {
    "id": "vSbh8TreYKkq",
    "outputId": "6577cbac-95d7-4019-e6b2-b2cbdbb22c84"
   },
   "outputs": [
    {
     "name": "stdout",
     "output_type": "stream",
     "text": [
      "0.7742207245155855\n",
      "0.7740803145183938\n"
     ]
    }
   ],
   "source": [
    "knn_bow_score = accuracy_score(test,knn_bow_predict)\n",
    "print(knn_bow_score)\n",
    "knn_tfidf_score = accuracy_score(test,knn_tfidf_predict)\n",
    "print(knn_tfidf_score)"
   ]
  },
  {
   "cell_type": "code",
   "execution_count": null,
   "metadata": {
    "id": "j6LtKZ2oYKkr",
    "outputId": "eba1d525-3013-413d-d1b2-c104f1f1a40c"
   },
   "outputs": [
    {
     "name": "stdout",
     "output_type": "stream",
     "text": [
      "              precision    recall  f1-score   support\n",
      "\n",
      "    Positive       0.00      0.00      0.00      1608\n",
      "    Negative       0.77      1.00      0.87      5514\n",
      "\n",
      "    accuracy                           0.77      7122\n",
      "   macro avg       0.39      0.50      0.44      7122\n",
      "weighted avg       0.60      0.77      0.68      7122\n",
      "\n",
      "              precision    recall  f1-score   support\n",
      "\n",
      "    Positive       0.00      0.00      0.00      1608\n",
      "    Negative       0.77      1.00      0.87      5514\n",
      "\n",
      "    accuracy                           0.77      7122\n",
      "   macro avg       0.39      0.50      0.44      7122\n",
      "weighted avg       0.60      0.77      0.68      7122\n",
      "\n"
     ]
    }
   ],
   "source": [
    "knn_bow_report = classification_report(test,knn_bow_predict,target_names=['Positive','Negative'])\n",
    "print(knn_bow_report)\n",
    "knn_tfidf_report = classification_report(test,knn_tfidf_predict,target_names=['Positive','Negative'])\n",
    "print(knn_tfidf_report)"
   ]
  },
  {
   "cell_type": "code",
   "execution_count": null,
   "metadata": {
    "id": "ys-DKe91YKkr",
    "outputId": "c5c4338f-8c97-4796-d126-5c9f5c761dad"
   },
   "outputs": [
    {
     "name": "stdout",
     "output_type": "stream",
     "text": [
      "[[   0 1608]\n",
      " [   0 5514]]\n",
      "[[   0 1608]\n",
      " [   1 5513]]\n"
     ]
    }
   ],
   "source": [
    "cm_bow = confusion_matrix(test,knn_bow_predict,labels=[0,1])\n",
    "print(cm_bow)\n",
    "cm_tfidf = confusion_matrix(test,knn_tfidf_predict,labels=[0,1])\n",
    "print(cm_tfidf)"
   ]
  },
  {
   "cell_type": "markdown",
   "metadata": {
    "id": "x729qpuEYKks"
   },
   "source": [
    "# Decision tree"
   ]
  },
  {
   "cell_type": "code",
   "execution_count": null,
   "metadata": {
    "id": "1QdE2mEfYKks"
   },
   "outputs": [],
   "source": [
    "from sklearn.tree import DecisionTreeClassifier\n",
    "dtc = DecisionTreeClassifier (criterion = 'entropy',max_depth=3)"
   ]
  },
  {
   "cell_type": "code",
   "execution_count": null,
   "metadata": {
    "id": "HQWxQtNNYKkt",
    "outputId": "5d1b47ed-517d-4dc2-dbd4-b564834ef21f"
   },
   "outputs": [
    {
     "name": "stdout",
     "output_type": "stream",
     "text": [
      "DecisionTreeClassifier(criterion='entropy', max_depth=3)\n",
      "DecisionTreeClassifier(criterion='entropy', max_depth=3)\n"
     ]
    }
   ],
   "source": [
    "dtc_bow = dtc.fit(cv_train_reviews,train)\n",
    "print(dtc_bow)\n",
    "dtc_tfidf = dtc.fit(tv_train_reviews,train)\n",
    "print(dtc_tfidf)"
   ]
  },
  {
   "cell_type": "code",
   "execution_count": null,
   "metadata": {
    "id": "V-EsU-xrYKkt",
    "outputId": "f452cfcd-1e0d-4186-a21b-053119c44172"
   },
   "outputs": [
    {
     "name": "stdout",
     "output_type": "stream",
     "text": [
      "[1 1 1 ... 1 1 1]\n",
      "[1 1 1 ... 1 1 1]\n"
     ]
    }
   ],
   "source": [
    "dtc_bow_predict = dtc.predict(cv_test_reviews)\n",
    "print(dtc_bow_predict)\n",
    "dtc_tfidf_predict = dtc.predict(tv_test_reviews)\n",
    "print(dtc_tfidf_predict)"
   ]
  },
  {
   "cell_type": "code",
   "execution_count": null,
   "metadata": {
    "id": "iO3LhmcYYKkt",
    "outputId": "6e3ce7a7-72ed-4c85-950d-a7933180b0a3"
   },
   "outputs": [
    {
     "name": "stdout",
     "output_type": "stream",
     "text": [
      "0.7743611345127773\n",
      "0.7743611345127773\n"
     ]
    }
   ],
   "source": [
    "dtc_bow_score = accuracy_score(test,dtc_bow_predict)\n",
    "print(dtc_bow_score)\n",
    "dtc_tfidf_score = accuracy_score(test,dtc_tfidf_predict)\n",
    "print(dtc_tfidf_score)"
   ]
  },
  {
   "cell_type": "code",
   "execution_count": null,
   "metadata": {
    "id": "d79rZ0WtYKku",
    "outputId": "23c3f4be-c3bd-474a-a3ac-56e9bc34301f"
   },
   "outputs": [
    {
     "name": "stdout",
     "output_type": "stream",
     "text": [
      "              precision    recall  f1-score   support\n",
      "\n",
      "    Positive       1.00      0.00      0.00      1608\n",
      "    Negative       0.77      1.00      0.87      5514\n",
      "\n",
      "    accuracy                           0.77      7122\n",
      "   macro avg       0.89      0.50      0.44      7122\n",
      "weighted avg       0.83      0.77      0.68      7122\n",
      "\n",
      "              precision    recall  f1-score   support\n",
      "\n",
      "    Positive       1.00      0.00      0.00      1608\n",
      "    Negative       0.77      1.00      0.87      5514\n",
      "\n",
      "    accuracy                           0.77      7122\n",
      "   macro avg       0.89      0.50      0.44      7122\n",
      "weighted avg       0.83      0.77      0.68      7122\n",
      "\n"
     ]
    }
   ],
   "source": [
    "dtc_bow_report = classification_report(test,dtc_bow_predict,target_names=['Positive','Negative'])\n",
    "print(dtc_bow_report)\n",
    "dtc_tfidf_report = classification_report(test,dtc_tfidf_predict,target_names=['Positive','Negative'])\n",
    "print(dtc_tfidf_report)"
   ]
  },
  {
   "cell_type": "code",
   "execution_count": null,
   "metadata": {
    "id": "8L45Bv7WYKku",
    "outputId": "c059b31d-66dd-4a96-debb-21d046c37184"
   },
   "outputs": [
    {
     "name": "stdout",
     "output_type": "stream",
     "text": [
      "[[   1 1607]\n",
      " [   0 5514]]\n",
      "[[   1 1607]\n",
      " [   0 5514]]\n"
     ]
    }
   ],
   "source": [
    "cm_bow = confusion_matrix(test,dtc_bow_predict,labels=[0,1])\n",
    "print(cm_bow)\n",
    "cm_tfidf = confusion_matrix(test,dtc_tfidf_predict,labels=[0,1])\n",
    "print(cm_tfidf)"
   ]
  },
  {
   "cell_type": "markdown",
   "metadata": {
    "id": "M5cRqdEHYKkv"
   },
   "source": [
    "                                                                      **Thank you**"
   ]
  }
 ],
 "metadata": {
  "colab": {
   "collapsed_sections": [
    "-zfARstwYKkF",
    "IDWDEKmdYKkG",
    "tC-dwmuUYKkK",
    "-q-YdMVEYKkO",
    "5hJPrLx7YKkO",
    "UMtEYehWYKkO",
    "QklBk9O9YKkP",
    "900ev2PSYKkP",
    "VDmyIe_5YKkQ",
    "q0HmtvsZYKkR",
    "NRT1HiGkYKkR",
    "i_yL5Nt-YKkS",
    "Up8LMHoCYKkU",
    "3TUZt829YKkV",
    "vRLr118bYKkW",
    "pEaDnvH2YKkW",
    "Wo96x5ltYKkY",
    "J_njqG-dYKkZ",
    "xHk2B1-KYKkZ",
    "9Qasg7NxYKka",
    "Ohv3SZ7oYKkb",
    "MBV53ZmDYKkc",
    "tq9kttZIYKkd",
    "SjPGTfd7YKkd",
    "MRdq10S_YKke",
    "03eCBSZLYKke",
    "gXN_2vQnYKkf",
    "fmmrxfSlYKki",
    "NliFxOT_YKkj",
    "bMmL0cu3YKkj",
    "JzIs8-jxYKkk",
    "xgRBmC_AYKkk",
    "N-06m6edYKkk",
    "TyVSA_8GYKkl",
    "E2pp_gkcYKkl",
    "9v7tgtAIYKkm",
    "kPMwgG5KYKkn",
    "2THeSpXLYKko",
    "yaF0nD9CYKko",
    "x729qpuEYKks",
    "lkAzcJtdYKkv"
   ],
   "provenance": []
  },
  "kernelspec": {
   "display_name": "Python 3",
   "language": "python",
   "name": "python3"
  },
  "language_info": {
   "codemirror_mode": {
    "name": "ipython",
    "version": 3
   },
   "file_extension": ".py",
   "mimetype": "text/x-python",
   "name": "python",
   "nbconvert_exporter": "python",
   "pygments_lexer": "ipython3",
   "version": "3.8.3"
  }
 },
 "nbformat": 4,
 "nbformat_minor": 1
}
